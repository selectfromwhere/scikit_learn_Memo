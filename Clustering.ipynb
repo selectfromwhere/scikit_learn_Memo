{
 "cells": [
  {
   "cell_type": "markdown",
   "metadata": {},
   "source": [
    "# scikit-learnでクラスタリング"
   ]
  },
  {
   "cell_type": "markdown",
   "metadata": {},
   "source": [
    "## クラスタリングとは\n",
    "### 概要\n",
    "- 教師なしデータ分類の手法\n",
    "- データの集まりをデータ間の類似度に従って、いつかのグループに分ける\n",
    "- 階層的手法と非階層的手法に分類される\n",
    "\n",
    "#### 階層的手法\n",
    "> 各データを１つのクラスタとし、クラスタ間の距離や類似度に基づいてクラスタを逐次的に併合していく手法\n",
    "- 最短距離法 (nearest neighbor method) \n",
    "- 最長距離法 (furthest neighbor method)\n",
    "- 群平均法 (group average method)\n",
    "- ウォード法 (Ward’s method)\n",
    "\n",
    "#### 非階層的手法\n",
    "> データの分割の良さを表す評価関数によって、最適解を探索する手法\n",
    "> 階層的手法ではデータが多いと階層構造が複雑になってしまうため、非階層的手法のほうが実用的\n",
    "- k-means法（k平均法）\n",
    "\n",
    "http://nlp.dse.ibaraki.ac.jp/~shinnou/zemi2008/Rclustering/r-tanaka-0415.pdf:title  \n",
    "http://www.kamishima.net/jp/clustering/"
   ]
  },
  {
   "cell_type": "markdown",
   "metadata": {},
   "source": [
    "### ビジネスでの活用例\n",
    "#### 市場細分化に基づくターゲット市場の選定\n",
    "> ・顧客をセグメンテーションし、セグメントに適合するマーケティング施策を展開する  \n",
    "> ・顧客のどの属性をセグメンテーション変数として使うべきかは、分析の目的に合わせて選別する必要がある  \n",
    "> ・コトラーによる顧客市場の主要なセグメンテーション変数には、以下４つがある  \n",
    "1. 人口統計学的変数 (Demographic Variables)\n",
    "2. 地理的変数 (Geographic Variables)\n",
    "3. 心理的変数 (Psychographic Variables)\n",
    "4. 行動変数 (Behavioral Variables)\n",
    "\n",
    "#### 製品ポジショニングによる差別化戦略の策定\n",
    "> ・競合製品の属性でクラスタ分析を行うことで、競合製品に対する優位性に着目して製品のポジションを確立するなど差別化を図る  \n",
    "> ・競合が参入していない空白マーケットを発見し、新規市場を開拓する\n",
    "\n",
    "#### テストマーケットにおけるマーケティング施策の評価\n",
    "> ・マーケットのクラスタ分析を実施することで、テストマーケット※の有効性を保証する  \n",
    "> 　※マーケティング施策を展開する前に、少数の顧客からなるテストマーケットでテストを行い、事前評価を行うのが一般的\n",
    "\n",
    "https://enterprisezine.jp/iti/detail/6762"
   ]
  },
  {
   "cell_type": "markdown",
   "metadata": {},
   "source": [
    "### クラスタ分析を行う際に注意すべきこと\n",
    "> ・クラスタ分析は探索的な分析手法のため、複数回の分析結果を比較したり、異なる手法で分析結果を確認したりして、  \n",
    "　地道な検証作業を繰り返すことで意思決定に有用な分析結果を導き出さなければならない  \n",
    "> ・欠損値の有無や標準化の必要性に関する確認が事前作業として不可欠\n",
    "1. データから外れ値を除外すること\n",
    "2. 分析データから分類理由を正しく説明できるかを常に考え、分析目的をサポートする属性を見極めること"
   ]
  },
  {
   "cell_type": "markdown",
   "metadata": {},
   "source": [
    "## 今回使用するデータ\n",
    "### Wholesale customers Data Set  (卸売業者の顧客データ) \n",
    "例によって、カリフォルニア大学アーバイン校(University of California, Irvine)のMachine Learning Repositoryから取得した  \n",
    "事例がいくつも転がっていて、のちにサンプルをいくつか見れて助かることになった"
   ]
  },
  {
   "cell_type": "markdown",
   "metadata": {},
   "source": [
    "#### データセットの情報（Data Set Information）\n",
    "ポルトガルの卸売業者の顧客のデータ（2011年(通年)、通貨単位の年間支出）。  \n",
    "大元のデータベースからサンプリングしたデータセット。  \n",
    "卸売の取引額なので、利益ではないことに注意したい。  \n",
    "\n",
    "\n",
    "以下、英訳のニュアンスが難しかったので、誤っている可能性あり。。　　\n",
    "\n",
    "\n",
    "```\n",
    "1）FRESH  ：生鮮品の年間支出（通貨単位）\n",
    "2）MILK   ：乳製品の年間支出（通貨単位）\n",
    "3）GROCERY：食料品の年間支出（通貨単位）\n",
    "4）FROZEN ：冷凍品の年間支出（通貨単位）\n",
    "5）DETERGENTS_PAPER：洗剤、紙製品の年間支出（通貨単位）\n",
    "6）DELICATESSEN：デリカテッセン(惣菜)の年間支出（通貨単位）\n",
    "7）CHANNEL：販売チャネル - Horeca（ホテル/レストラン/カフェ）またはその他の販売チャネル\n",
    "8）REGION ：消費地域 - リスボン、ポルト、その他\n",
    "```\n",
    "統計量：\n",
    "Product | Minimum | Maximum | Mean | Std.Deviation\n",
    ":--|--:|:--|--:|:--:\n",
    "FRESH  | 3 | 112151 | 12000.30 | 12647.329\n",
    "MILK | 55 | 73498| 5796.27| 7380.377\n",
    "GROCERY | 3 | 92780 | 7951.28 | 9503.163\n",
    "FROZEN | 25 | 60869 | 3071.93 | 4854.673\n",
    "DETERGENTS_PAPER | 3 | 40827 | 2881.49 | 4767.854\n",
    "DELICATESSEN | 3 | 47943 | 1524.87 | 2820.106\n",
    "\n",
    "REGION | Frequency \n",
    ":--|--:\n",
    "Lisbon | 77 \n",
    "Oporto |47 \n",
    "Other Region | 316 \n",
    "Total | 440 \n",
    "\n",
    "CHANNEL | Frequency\n",
    ":--|--:\n",
    "Horeca | 298 \n",
    "Retail | 142 \n",
    "Total | 440 \n",
    "```"
   ]
  },
  {
   "cell_type": "markdown",
   "metadata": {},
   "source": [
    "## 試行過程と結果\n",
    "### まずはデータを見てみる\n",
    "データをダウンロードしてjupyter notebookにインポートする\n",
    "#### rawデータを確認"
   ]
  },
  {
   "cell_type": "code",
   "execution_count": 1,
   "metadata": {},
   "outputs": [
    {
     "data": {
      "text/html": [
       "<div>\n",
       "<style>\n",
       "    .dataframe thead tr:only-child th {\n",
       "        text-align: right;\n",
       "    }\n",
       "\n",
       "    .dataframe thead th {\n",
       "        text-align: left;\n",
       "    }\n",
       "\n",
       "    .dataframe tbody tr th {\n",
       "        vertical-align: top;\n",
       "    }\n",
       "</style>\n",
       "<table border=\"1\" class=\"dataframe\">\n",
       "  <thead>\n",
       "    <tr style=\"text-align: right;\">\n",
       "      <th></th>\n",
       "      <th>Channel</th>\n",
       "      <th>Region</th>\n",
       "      <th>Fresh</th>\n",
       "      <th>Milk</th>\n",
       "      <th>Grocery</th>\n",
       "      <th>Frozen</th>\n",
       "      <th>Detergents_Paper</th>\n",
       "      <th>Delicassen</th>\n",
       "    </tr>\n",
       "  </thead>\n",
       "  <tbody>\n",
       "    <tr>\n",
       "      <th>0</th>\n",
       "      <td>2</td>\n",
       "      <td>3</td>\n",
       "      <td>12669</td>\n",
       "      <td>9656</td>\n",
       "      <td>7561</td>\n",
       "      <td>214</td>\n",
       "      <td>2674</td>\n",
       "      <td>1338</td>\n",
       "    </tr>\n",
       "    <tr>\n",
       "      <th>1</th>\n",
       "      <td>2</td>\n",
       "      <td>3</td>\n",
       "      <td>7057</td>\n",
       "      <td>9810</td>\n",
       "      <td>9568</td>\n",
       "      <td>1762</td>\n",
       "      <td>3293</td>\n",
       "      <td>1776</td>\n",
       "    </tr>\n",
       "    <tr>\n",
       "      <th>2</th>\n",
       "      <td>2</td>\n",
       "      <td>3</td>\n",
       "      <td>6353</td>\n",
       "      <td>8808</td>\n",
       "      <td>7684</td>\n",
       "      <td>2405</td>\n",
       "      <td>3516</td>\n",
       "      <td>7844</td>\n",
       "    </tr>\n",
       "    <tr>\n",
       "      <th>3</th>\n",
       "      <td>1</td>\n",
       "      <td>3</td>\n",
       "      <td>13265</td>\n",
       "      <td>1196</td>\n",
       "      <td>4221</td>\n",
       "      <td>6404</td>\n",
       "      <td>507</td>\n",
       "      <td>1788</td>\n",
       "    </tr>\n",
       "    <tr>\n",
       "      <th>4</th>\n",
       "      <td>2</td>\n",
       "      <td>3</td>\n",
       "      <td>22615</td>\n",
       "      <td>5410</td>\n",
       "      <td>7198</td>\n",
       "      <td>3915</td>\n",
       "      <td>1777</td>\n",
       "      <td>5185</td>\n",
       "    </tr>\n",
       "  </tbody>\n",
       "</table>\n",
       "</div>"
      ],
      "text/plain": [
       "   Channel  Region  Fresh  Milk  Grocery  Frozen  Detergents_Paper  Delicassen\n",
       "0        2       3  12669  9656     7561     214              2674        1338\n",
       "1        2       3   7057  9810     9568    1762              3293        1776\n",
       "2        2       3   6353  8808     7684    2405              3516        7844\n",
       "3        1       3  13265  1196     4221    6404               507        1788\n",
       "4        2       3  22615  5410     7198    3915              1777        5185"
      ]
     },
     "execution_count": 1,
     "metadata": {},
     "output_type": "execute_result"
    }
   ],
   "source": [
    "import pandas as pd\n",
    "import_df = pd.read_csv('Wholesale_customers_data.csv')\n",
    "import_df.head()"
   ]
  },
  {
   "cell_type": "markdown",
   "metadata": {},
   "source": [
    "#### ChannelとRegionの値が何を示しているのか不明なので特定する\n",
    "まずはChannel"
   ]
  },
  {
   "cell_type": "code",
   "execution_count": 2,
   "metadata": {},
   "outputs": [
    {
     "data": {
      "text/html": [
       "<div>\n",
       "<style>\n",
       "    .dataframe thead tr:only-child th {\n",
       "        text-align: right;\n",
       "    }\n",
       "\n",
       "    .dataframe thead th {\n",
       "        text-align: left;\n",
       "    }\n",
       "\n",
       "    .dataframe tbody tr th {\n",
       "        vertical-align: top;\n",
       "    }\n",
       "</style>\n",
       "<table border=\"1\" class=\"dataframe\">\n",
       "  <thead>\n",
       "    <tr style=\"text-align: right;\">\n",
       "      <th></th>\n",
       "      <th>Region</th>\n",
       "      <th>Fresh</th>\n",
       "      <th>Milk</th>\n",
       "      <th>Grocery</th>\n",
       "      <th>Frozen</th>\n",
       "      <th>Detergents_Paper</th>\n",
       "      <th>Delicassen</th>\n",
       "    </tr>\n",
       "    <tr>\n",
       "      <th>Channel</th>\n",
       "      <th></th>\n",
       "      <th></th>\n",
       "      <th></th>\n",
       "      <th></th>\n",
       "      <th></th>\n",
       "      <th></th>\n",
       "      <th></th>\n",
       "    </tr>\n",
       "  </thead>\n",
       "  <tbody>\n",
       "    <tr>\n",
       "      <th>1</th>\n",
       "      <td>298</td>\n",
       "      <td>298</td>\n",
       "      <td>298</td>\n",
       "      <td>298</td>\n",
       "      <td>298</td>\n",
       "      <td>298</td>\n",
       "      <td>298</td>\n",
       "    </tr>\n",
       "    <tr>\n",
       "      <th>2</th>\n",
       "      <td>142</td>\n",
       "      <td>142</td>\n",
       "      <td>142</td>\n",
       "      <td>142</td>\n",
       "      <td>142</td>\n",
       "      <td>142</td>\n",
       "      <td>142</td>\n",
       "    </tr>\n",
       "  </tbody>\n",
       "</table>\n",
       "</div>"
      ],
      "text/plain": [
       "         Region  Fresh  Milk  Grocery  Frozen  Detergents_Paper  Delicassen\n",
       "Channel                                                                    \n",
       "1           298    298   298      298     298               298         298\n",
       "2           142    142   142      142     142               142         142"
      ]
     },
     "execution_count": 2,
     "metadata": {},
     "output_type": "execute_result"
    }
   ],
   "source": [
    "import_df.groupby(['Channel']).count()"
   ]
  },
  {
   "cell_type": "markdown",
   "metadata": {},
   "source": [
    "データセットの情報と突き合わせると  \n",
    "- 1:Hoterica  \n",
    "- 2:Retail  \n",
    "であることがわかる。\n",
    "\n",
    "Regionはどうだろうか？"
   ]
  },
  {
   "cell_type": "code",
   "execution_count": 3,
   "metadata": {},
   "outputs": [
    {
     "data": {
      "text/html": [
       "<div>\n",
       "<style>\n",
       "    .dataframe thead tr:only-child th {\n",
       "        text-align: right;\n",
       "    }\n",
       "\n",
       "    .dataframe thead th {\n",
       "        text-align: left;\n",
       "    }\n",
       "\n",
       "    .dataframe tbody tr th {\n",
       "        vertical-align: top;\n",
       "    }\n",
       "</style>\n",
       "<table border=\"1\" class=\"dataframe\">\n",
       "  <thead>\n",
       "    <tr style=\"text-align: right;\">\n",
       "      <th></th>\n",
       "      <th>Channel</th>\n",
       "      <th>Fresh</th>\n",
       "      <th>Milk</th>\n",
       "      <th>Grocery</th>\n",
       "      <th>Frozen</th>\n",
       "      <th>Detergents_Paper</th>\n",
       "      <th>Delicassen</th>\n",
       "    </tr>\n",
       "    <tr>\n",
       "      <th>Region</th>\n",
       "      <th></th>\n",
       "      <th></th>\n",
       "      <th></th>\n",
       "      <th></th>\n",
       "      <th></th>\n",
       "      <th></th>\n",
       "      <th></th>\n",
       "    </tr>\n",
       "  </thead>\n",
       "  <tbody>\n",
       "    <tr>\n",
       "      <th>1</th>\n",
       "      <td>77</td>\n",
       "      <td>77</td>\n",
       "      <td>77</td>\n",
       "      <td>77</td>\n",
       "      <td>77</td>\n",
       "      <td>77</td>\n",
       "      <td>77</td>\n",
       "    </tr>\n",
       "    <tr>\n",
       "      <th>2</th>\n",
       "      <td>47</td>\n",
       "      <td>47</td>\n",
       "      <td>47</td>\n",
       "      <td>47</td>\n",
       "      <td>47</td>\n",
       "      <td>47</td>\n",
       "      <td>47</td>\n",
       "    </tr>\n",
       "    <tr>\n",
       "      <th>3</th>\n",
       "      <td>316</td>\n",
       "      <td>316</td>\n",
       "      <td>316</td>\n",
       "      <td>316</td>\n",
       "      <td>316</td>\n",
       "      <td>316</td>\n",
       "      <td>316</td>\n",
       "    </tr>\n",
       "  </tbody>\n",
       "</table>\n",
       "</div>"
      ],
      "text/plain": [
       "        Channel  Fresh  Milk  Grocery  Frozen  Detergents_Paper  Delicassen\n",
       "Region                                                                     \n",
       "1            77     77    77       77      77                77          77\n",
       "2            47     47    47       47      47                47          47\n",
       "3           316    316   316      316     316               316         316"
      ]
     },
     "execution_count": 3,
     "metadata": {},
     "output_type": "execute_result"
    }
   ],
   "source": [
    "import_df.groupby(['Region']).count()"
   ]
  },
  {
   "cell_type": "markdown",
   "metadata": {},
   "source": [
    "こちらもデータセットの情報と突き合わせて  \n",
    "- 1:Lisbon  \n",
    "- 2:Oporto  \n",
    "- 3:Other Region  \n",
    "であることがわかった。\n",
    "\n",
    "#### データの特徴量"
   ]
  },
  {
   "cell_type": "code",
   "execution_count": 4,
   "metadata": {},
   "outputs": [
    {
     "data": {
      "text/html": [
       "<div>\n",
       "<style>\n",
       "    .dataframe thead tr:only-child th {\n",
       "        text-align: right;\n",
       "    }\n",
       "\n",
       "    .dataframe thead th {\n",
       "        text-align: left;\n",
       "    }\n",
       "\n",
       "    .dataframe tbody tr th {\n",
       "        vertical-align: top;\n",
       "    }\n",
       "</style>\n",
       "<table border=\"1\" class=\"dataframe\">\n",
       "  <thead>\n",
       "    <tr style=\"text-align: right;\">\n",
       "      <th></th>\n",
       "      <th>Channel</th>\n",
       "      <th>Region</th>\n",
       "      <th>Fresh</th>\n",
       "      <th>Milk</th>\n",
       "      <th>Grocery</th>\n",
       "      <th>Frozen</th>\n",
       "      <th>Detergents_Paper</th>\n",
       "      <th>Delicassen</th>\n",
       "    </tr>\n",
       "  </thead>\n",
       "  <tbody>\n",
       "    <tr>\n",
       "      <th>count</th>\n",
       "      <td>440.000000</td>\n",
       "      <td>440.000000</td>\n",
       "      <td>440.000000</td>\n",
       "      <td>440.000000</td>\n",
       "      <td>440.000000</td>\n",
       "      <td>440.000000</td>\n",
       "      <td>440.000000</td>\n",
       "      <td>440.000000</td>\n",
       "    </tr>\n",
       "    <tr>\n",
       "      <th>mean</th>\n",
       "      <td>1.322727</td>\n",
       "      <td>2.543182</td>\n",
       "      <td>12000.297727</td>\n",
       "      <td>5796.265909</td>\n",
       "      <td>7951.277273</td>\n",
       "      <td>3071.931818</td>\n",
       "      <td>2881.493182</td>\n",
       "      <td>1524.870455</td>\n",
       "    </tr>\n",
       "    <tr>\n",
       "      <th>std</th>\n",
       "      <td>0.468052</td>\n",
       "      <td>0.774272</td>\n",
       "      <td>12647.328865</td>\n",
       "      <td>7380.377175</td>\n",
       "      <td>9503.162829</td>\n",
       "      <td>4854.673333</td>\n",
       "      <td>4767.854448</td>\n",
       "      <td>2820.105937</td>\n",
       "    </tr>\n",
       "    <tr>\n",
       "      <th>min</th>\n",
       "      <td>1.000000</td>\n",
       "      <td>1.000000</td>\n",
       "      <td>3.000000</td>\n",
       "      <td>55.000000</td>\n",
       "      <td>3.000000</td>\n",
       "      <td>25.000000</td>\n",
       "      <td>3.000000</td>\n",
       "      <td>3.000000</td>\n",
       "    </tr>\n",
       "    <tr>\n",
       "      <th>25%</th>\n",
       "      <td>1.000000</td>\n",
       "      <td>2.000000</td>\n",
       "      <td>3127.750000</td>\n",
       "      <td>1533.000000</td>\n",
       "      <td>2153.000000</td>\n",
       "      <td>742.250000</td>\n",
       "      <td>256.750000</td>\n",
       "      <td>408.250000</td>\n",
       "    </tr>\n",
       "    <tr>\n",
       "      <th>50%</th>\n",
       "      <td>1.000000</td>\n",
       "      <td>3.000000</td>\n",
       "      <td>8504.000000</td>\n",
       "      <td>3627.000000</td>\n",
       "      <td>4755.500000</td>\n",
       "      <td>1526.000000</td>\n",
       "      <td>816.500000</td>\n",
       "      <td>965.500000</td>\n",
       "    </tr>\n",
       "    <tr>\n",
       "      <th>75%</th>\n",
       "      <td>2.000000</td>\n",
       "      <td>3.000000</td>\n",
       "      <td>16933.750000</td>\n",
       "      <td>7190.250000</td>\n",
       "      <td>10655.750000</td>\n",
       "      <td>3554.250000</td>\n",
       "      <td>3922.000000</td>\n",
       "      <td>1820.250000</td>\n",
       "    </tr>\n",
       "    <tr>\n",
       "      <th>max</th>\n",
       "      <td>2.000000</td>\n",
       "      <td>3.000000</td>\n",
       "      <td>112151.000000</td>\n",
       "      <td>73498.000000</td>\n",
       "      <td>92780.000000</td>\n",
       "      <td>60869.000000</td>\n",
       "      <td>40827.000000</td>\n",
       "      <td>47943.000000</td>\n",
       "    </tr>\n",
       "  </tbody>\n",
       "</table>\n",
       "</div>"
      ],
      "text/plain": [
       "          Channel      Region          Fresh          Milk       Grocery  \\\n",
       "count  440.000000  440.000000     440.000000    440.000000    440.000000   \n",
       "mean     1.322727    2.543182   12000.297727   5796.265909   7951.277273   \n",
       "std      0.468052    0.774272   12647.328865   7380.377175   9503.162829   \n",
       "min      1.000000    1.000000       3.000000     55.000000      3.000000   \n",
       "25%      1.000000    2.000000    3127.750000   1533.000000   2153.000000   \n",
       "50%      1.000000    3.000000    8504.000000   3627.000000   4755.500000   \n",
       "75%      2.000000    3.000000   16933.750000   7190.250000  10655.750000   \n",
       "max      2.000000    3.000000  112151.000000  73498.000000  92780.000000   \n",
       "\n",
       "             Frozen  Detergents_Paper    Delicassen  \n",
       "count    440.000000        440.000000    440.000000  \n",
       "mean    3071.931818       2881.493182   1524.870455  \n",
       "std     4854.673333       4767.854448   2820.105937  \n",
       "min       25.000000          3.000000      3.000000  \n",
       "25%      742.250000        256.750000    408.250000  \n",
       "50%     1526.000000        816.500000    965.500000  \n",
       "75%     3554.250000       3922.000000   1820.250000  \n",
       "max    60869.000000      40827.000000  47943.000000  "
      ]
     },
     "execution_count": 4,
     "metadata": {},
     "output_type": "execute_result"
    }
   ],
   "source": [
    "import_df.describe()"
   ]
  },
  {
   "cell_type": "markdown",
   "metadata": {},
   "source": [
    "- 欠損値はない  \n",
    "- 卸売額は、Fresh, Grocery, Milk, Frozen, Detergents_Paper, Delicassenの順で大きい\n",
    "- 小口から大口まで、多様な顧客を持っている"
   ]
  },
  {
   "cell_type": "markdown",
   "metadata": {},
   "source": [
    "### データの分布を見てみる\n",
    "とりかかる前に、Channel, Regionごとのデータフレームに分割しておく\n",
    "\n",
    "#### Channelごとのデータフレーム"
   ]
  },
  {
   "cell_type": "code",
   "execution_count": 5,
   "metadata": {
    "collapsed": true
   },
   "outputs": [],
   "source": [
    "# Horeca\n",
    "df_Channel1 = import_df[import_df['Channel']==1].drop(['Channel'],axis=1)\n",
    "# Retail\n",
    "df_Channel2 = import_df[import_df['Channel']==2].drop(['Channel'],axis=1)"
   ]
  },
  {
   "cell_type": "markdown",
   "metadata": {},
   "source": [
    "#### Regionごとのデータフレーム"
   ]
  },
  {
   "cell_type": "code",
   "execution_count": 6,
   "metadata": {
    "collapsed": true
   },
   "outputs": [],
   "source": [
    "# Lisbon\n",
    "df_Region1 = import_df[import_df['Region']==1].drop(['Region'],axis=1)\n",
    "# Oporto\n",
    "df_Region2 = import_df[import_df['Region']==2].drop(['Region'],axis=1)\n",
    "# Other Region\n",
    "df_Region3 = import_df[import_df['Region']==3].drop(['Region'],axis=1)"
   ]
  },
  {
   "cell_type": "code",
   "execution_count": 7,
   "metadata": {
    "collapsed": true
   },
   "outputs": [],
   "source": [
    "import matplotlib.pyplot as plt\n",
    "import seaborn as sns\n",
    "sns.set_style('whitegrid')\n",
    "%matplotlib inline"
   ]
  },
  {
   "cell_type": "markdown",
   "metadata": {
    "collapsed": true
   },
   "source": [
    "#### Freshの分布\n",
    "まずはChannelごと"
   ]
  },
  {
   "cell_type": "code",
   "execution_count": 8,
   "metadata": {},
   "outputs": [
    {
     "data": {
      "text/plain": [
       "([array([ 73.,  56.,  50.,  28.,  27.,  15.,  14.,  12.,   2.,   6.,   5.,\n",
       "           2.,   1.,   1.,   3.]),\n",
       "  array([ 53.,  29.,  21.,  11.,  12.,   7.,   4.,   1.,   1.,   1.,   1.,\n",
       "           1.,   0.,   0.,   0.])],\n",
       " array([     0.,   4000.,   8000.,  12000.,  16000.,  20000.,  24000.,\n",
       "         28000.,  32000.,  36000.,  40000.,  44000.,  48000.,  52000.,\n",
       "         56000.,  60000.]),\n",
       " <a list of 2 Lists of Patches objects>)"
      ]
     },
     "execution_count": 8,
     "metadata": {},
     "output_type": "execute_result"
    },
    {
     "data": {
      "image/png": "[encoded data removed]",
      "text/plain": [
       "<matplotlib.figure.Figure at 0x116cb9550>"
      ]
     },
     "metadata": {},
     "output_type": "display_data"
    }
   ],
   "source": [
    "plt.hist([df_Channel1['Fresh'],df_Channel2['Fresh']],\n",
    "         bins=15, label=['Horeca','Retail'], color=['#FACC2E','#2E64FE'], range=(0,60000))"
   ]
  },
  {
   "cell_type": "markdown",
   "metadata": {
    "collapsed": true
   },
   "source": [
    "- Channelごとでそれほど分布は変わらない\n",
    "\n",
    "次はRegionごと"
   ]
  },
  {
   "cell_type": "code",
   "execution_count": 9,
   "metadata": {},
   "outputs": [
    {
     "data": {
      "text/plain": [
       "([array([ 24.,  16.,  13.,   7.,   4.,   4.,   3.,   3.,   0.,   0.,   0.,\n",
       "           1.,   0.,   1.,   1.]),\n",
       "  array([ 14.,   9.,  10.,   3.,   5.,   2.,   2.,   1.,   1.,   0.,   0.,\n",
       "           0.,   0.,   0.,   0.]),\n",
       "  array([ 88.,  60.,  48.,  29.,  30.,  16.,  13.,   9.,   2.,   7.,   6.,\n",
       "           2.,   1.,   0.,   2.])],\n",
       " array([     0.,   4000.,   8000.,  12000.,  16000.,  20000.,  24000.,\n",
       "         28000.,  32000.,  36000.,  40000.,  44000.,  48000.,  52000.,\n",
       "         56000.,  60000.]),\n",
       " <a list of 3 Lists of Patches objects>)"
      ]
     },
     "execution_count": 9,
     "metadata": {},
     "output_type": "execute_result"
    },
    {
     "data": {
      "image/png": "[encoded data removed]",
      "text/plain": [
       "<matplotlib.figure.Figure at 0x11938a6a0>"
      ]
     },
     "metadata": {},
     "output_type": "display_data"
    }
   ],
   "source": [
    "plt.hist([df_Region1['Fresh'],df_Region2['Fresh'],df_Region3['Fresh']],\n",
    "         bins=15, label=['Lisbon','Oporto','Other Region'], color=['#2EFE2E','#FE2E2E','#F7FE2E'], rwidth=100, range=(0,60000))"
   ]
  },
  {
   "cell_type": "markdown",
   "metadata": {
    "collapsed": true
   },
   "source": [
    "- Regionごとでもそれほど分布は変わらない\n",
    "\n",
    "#### Milkの分布\n",
    "Channelごと"
   ]
  },
  {
   "cell_type": "code",
   "execution_count": 10,
   "metadata": {},
   "outputs": [
    {
     "data": {
      "text/plain": [
       "([array([ 170.,   81.,   25.,    8.,    6.,    0.,    4.,    0.,    2.,\n",
       "            0.,    0.,    1.,    0.,    0.,    0.]),\n",
       "  array([  6.,  25.,  41.,  22.,  22.,   8.,   2.,   3.,   3.,   2.,   2.,\n",
       "           1.,   0.,   1.,   1.])],\n",
       " array([     0.        ,   2666.66666667,   5333.33333333,   8000.        ,\n",
       "         10666.66666667,  13333.33333333,  16000.        ,  18666.66666667,\n",
       "         21333.33333333,  24000.        ,  26666.66666667,  29333.33333333,\n",
       "         32000.        ,  34666.66666667,  37333.33333333,  40000.        ]),\n",
       " <a list of 2 Lists of Patches objects>)"
      ]
     },
     "execution_count": 10,
     "metadata": {},
     "output_type": "execute_result"
    },
    {
     "data": {
      "image/png": "[encoded data removed]",
      "text/plain": [
       "<matplotlib.figure.Figure at 0x1195ae048>"
      ]
     },
     "metadata": {},
     "output_type": "display_data"
    }
   ],
   "source": [
    "plt.hist([df_Channel1['Milk'],df_Channel2['Milk']],\n",
    "         bins=15, label=['Horeca','Retail'], color=['#FACC2E','#2E64FE'], rwidth=100, range=(0,40000))"
   ]
  },
  {
   "cell_type": "markdown",
   "metadata": {
    "collapsed": true
   },
   "source": [
    "- MilkはRetailの方が、取引先あたりの卸売額が大きい傾向がある\n",
    "\n",
    "Regionごと"
   ]
  },
  {
   "cell_type": "code",
   "execution_count": 11,
   "metadata": {},
   "outputs": [
    {
     "data": {
      "text/plain": [
       "([array([ 33.,  16.,  12.,   4.,   6.,   1.,   2.,   0.,   2.,   0.,   1.,\n",
       "           0.,   0.,   0.,   0.]),\n",
       "  array([ 24.,  11.,   3.,   0.,   4.,   2.,   1.,   1.,   0.,   1.,   0.,\n",
       "           0.,   0.,   0.,   0.]),\n",
       "  array([ 119.,   79.,   51.,   26.,   18.,    5.,    3.,    2.,    3.,\n",
       "            1.,    1.,    2.,    0.,    1.,    1.])],\n",
       " array([     0.        ,   2666.66666667,   5333.33333333,   8000.        ,\n",
       "         10666.66666667,  13333.33333333,  16000.        ,  18666.66666667,\n",
       "         21333.33333333,  24000.        ,  26666.66666667,  29333.33333333,\n",
       "         32000.        ,  34666.66666667,  37333.33333333,  40000.        ]),\n",
       " <a list of 3 Lists of Patches objects>)"
      ]
     },
     "execution_count": 11,
     "metadata": {},
     "output_type": "execute_result"
    },
    {
     "data": {
      "image/png": "[encoded data removed]",
      "text/plain": [
       "<matplotlib.figure.Figure at 0x11981fdd8>"
      ]
     },
     "metadata": {},
     "output_type": "display_data"
    }
   ],
   "source": [
    "plt.hist([df_Region1['Milk'],df_Region2['Milk'],df_Region3['Milk']],\n",
    "         bins=15, label=['Lisbon','Oporto','Other Region'], color=['#2EFE2E','#FE2E2E','#F7FE2E'], rwidth=100, range=(0,40000))"
   ]
  },
  {
   "cell_type": "markdown",
   "metadata": {},
   "source": [
    "- Regionごとではそれほど分布は変わらない\n",
    "\n",
    "#### Groceryの分布\n",
    "Channelごと"
   ]
  },
  {
   "cell_type": "code",
   "execution_count": 12,
   "metadata": {},
   "outputs": [
    {
     "data": {
      "text/plain": [
       "([array([ 149.,   86.,   31.,   14.,    7.,    5.,    4.,    2.,    0.,\n",
       "            0.,    0.,    0.,    0.,    0.,    0.]),\n",
       "  array([  0.,   9.,  17.,  24.,  25.,  17.,   6.,  12.,  10.,   4.,   6.,\n",
       "           1.,   3.,   2.,   1.])],\n",
       " array([     0.        ,   2666.66666667,   5333.33333333,   8000.        ,\n",
       "         10666.66666667,  13333.33333333,  16000.        ,  18666.66666667,\n",
       "         21333.33333333,  24000.        ,  26666.66666667,  29333.33333333,\n",
       "         32000.        ,  34666.66666667,  37333.33333333,  40000.        ]),\n",
       " <a list of 2 Lists of Patches objects>)"
      ]
     },
     "execution_count": 12,
     "metadata": {},
     "output_type": "execute_result"
    },
    {
     "data": {
      "image/png": "[encoded data removed]",
      "text/plain": [
       "<matplotlib.figure.Figure at 0x119a31b70>"
      ]
     },
     "metadata": {},
     "output_type": "display_data"
    }
   ],
   "source": [
    "plt.hist([df_Channel1['Grocery'],df_Channel2['Grocery']],\n",
    "        bins=15, label=['Horeca','Retail'], color=['#FACC2E','#2E64FE'], rwidth=100, range=(0,40000))"
   ]
  },
  {
   "cell_type": "markdown",
   "metadata": {},
   "source": [
    "- GroceryはRetailの方が、取引先あたりの卸売額が大きい傾向がある\n",
    "\n",
    "Regionごと"
   ]
  },
  {
   "cell_type": "code",
   "execution_count": 13,
   "metadata": {},
   "outputs": [
    {
     "data": {
      "text/plain": [
       "([array([ 30.,  17.,   9.,   4.,   2.,   5.,   2.,   1.,   3.,   1.,   0.,\n",
       "           0.,   1.,   1.,   1.]),\n",
       "  array([ 11.,  12.,   6.,   4.,   4.,   3.,   1.,   2.,   1.,   1.,   1.,\n",
       "           0.,   0.,   0.,   0.]),\n",
       "  array([ 108.,   66.,   33.,   30.,   26.,   14.,    7.,   11.,    6.,\n",
       "            2.,    5.,    1.,    2.,    1.,    0.])],\n",
       " array([     0.        ,   2666.66666667,   5333.33333333,   8000.        ,\n",
       "         10666.66666667,  13333.33333333,  16000.        ,  18666.66666667,\n",
       "         21333.33333333,  24000.        ,  26666.66666667,  29333.33333333,\n",
       "         32000.        ,  34666.66666667,  37333.33333333,  40000.        ]),\n",
       " <a list of 3 Lists of Patches objects>)"
      ]
     },
     "execution_count": 13,
     "metadata": {},
     "output_type": "execute_result"
    },
    {
     "data": {
      "image/png": "[encoded data removed]",
      "text/plain": [
       "<matplotlib.figure.Figure at 0x119bfa080>"
      ]
     },
     "metadata": {},
     "output_type": "display_data"
    }
   ],
   "source": [
    "plt.hist([df_Region1['Grocery'],df_Region2['Grocery'],df_Region3['Grocery']],\n",
    "        bins=15, label=['Lisbon','Oporto','Other Region'], color=['#2EFE2E','#FE2E2E','#F7FE2E'], rwidth=100, range=(0,40000))"
   ]
  },
  {
   "cell_type": "markdown",
   "metadata": {},
   "source": [
    "- RegionごとではOther Region方が、取引先あたりの卸売額が大きい傾向がある\n",
    "\n",
    "#### Frozenの分布\n",
    "Channelごと"
   ]
  },
  {
   "cell_type": "code",
   "execution_count": 14,
   "metadata": {
    "scrolled": true
   },
   "outputs": [
    {
     "data": {
      "text/plain": [
       "([array([ 116.,   64.,   33.,   19.,   19.,   10.,   10.,   10.,    1.,\n",
       "            3.,    1.,    3.,    3.,    2.,    1.]),\n",
       "  array([ 84.,  32.,  14.,   5.,   2.,   2.,   2.,   0.,   1.,   0.,   0.,\n",
       "           0.,   0.,   0.,   0.])],\n",
       " array([     0.        ,   1333.33333333,   2666.66666667,   4000.        ,\n",
       "          5333.33333333,   6666.66666667,   8000.        ,   9333.33333333,\n",
       "         10666.66666667,  12000.        ,  13333.33333333,  14666.66666667,\n",
       "         16000.        ,  17333.33333333,  18666.66666667,  20000.        ]),\n",
       " <a list of 2 Lists of Patches objects>)"
      ]
     },
     "execution_count": 14,
     "metadata": {},
     "output_type": "execute_result"
    },
    {
     "data": {
      "image/png": "[encoded data removed]",
      "text/plain": [
       "<matplotlib.figure.Figure at 0x119d65be0>"
      ]
     },
     "metadata": {},
     "output_type": "display_data"
    }
   ],
   "source": [
    "plt.hist([df_Channel1['Frozen'],df_Channel2['Frozen']],\n",
    "        bins=15, label=['Horeca','Retail'], color=['#FACC2E','#2E64FE'], rwidth=100, range=(0,20000))"
   ]
  },
  {
   "cell_type": "markdown",
   "metadata": {},
   "source": [
    "- FrozenはHorecaの方が、取引先あたりの卸売額が大きい傾向がある\n",
    "\n",
    "Regionごと"
   ]
  },
  {
   "cell_type": "code",
   "execution_count": 15,
   "metadata": {},
   "outputs": [
    {
     "data": {
      "text/plain": [
       "([array([ 31.,  17.,   8.,   8.,   4.,   5.,   1.,   1.,   1.,   0.,   0.,\n",
       "           0.,   0.,   0.,   1.]),\n",
       "  array([ 22.,   9.,   7.,   2.,   0.,   1.,   1.,   1.,   1.,   1.,   0.,\n",
       "           1.,   0.,   0.,   0.]),\n",
       "  array([ 147.,   70.,   32.,   14.,   17.,    6.,   10.,    8.,    0.,\n",
       "            2.,    1.,    2.,    3.,    2.,    0.])],\n",
       " array([     0.        ,   1333.33333333,   2666.66666667,   4000.        ,\n",
       "          5333.33333333,   6666.66666667,   8000.        ,   9333.33333333,\n",
       "         10666.66666667,  12000.        ,  13333.33333333,  14666.66666667,\n",
       "         16000.        ,  17333.33333333,  18666.66666667,  20000.        ]),\n",
       " <a list of 3 Lists of Patches objects>)"
      ]
     },
     "execution_count": 15,
     "metadata": {},
     "output_type": "execute_result"
    },
    {
     "data": {
      "image/png": "[encoded data removed]",
      "text/plain": [
       "<matplotlib.figure.Figure at 0x119f4fac8>"
      ]
     },
     "metadata": {},
     "output_type": "display_data"
    }
   ],
   "source": [
    "plt.hist([df_Region1['Frozen'],df_Region2['Frozen'],df_Region3['Frozen']],\n",
    "        bins=15, label=['Lisbon','Oporto','Other Region'], color=['#2EFE2E','#FE2E2E','#F7FE2E'], rwidth=100, range=(0,20000))"
   ]
  },
  {
   "cell_type": "markdown",
   "metadata": {},
   "source": [
    "#### Detergents_Paperの分布\n",
    "Channelごと"
   ]
  },
  {
   "cell_type": "code",
   "execution_count": 16,
   "metadata": {},
   "outputs": [
    {
     "data": {
      "text/plain": [
       "([array([ 263.,   19.,   12.,    2.,    2.,    0.,    0.,    0.,    0.,\n",
       "            0.,    0.,    0.,    0.,    0.,    0.]),\n",
       "  array([  8.,  21.,  35.,  17.,  24.,  11.,   2.,   8.,   4.,   1.,   2.,\n",
       "           3.,   1.,   0.,   2.])],\n",
       " array([     0.        ,   1666.66666667,   3333.33333333,   5000.        ,\n",
       "          6666.66666667,   8333.33333333,  10000.        ,  11666.66666667,\n",
       "         13333.33333333,  15000.        ,  16666.66666667,  18333.33333333,\n",
       "         20000.        ,  21666.66666667,  23333.33333333,  25000.        ]),\n",
       " <a list of 2 Lists of Patches objects>)"
      ]
     },
     "execution_count": 16,
     "metadata": {},
     "output_type": "execute_result"
    },
    {
     "data": {
      "image/png": "[encoded data removed]",
      "text/plain": [
       "<matplotlib.figure.Figure at 0x119f3bd30>"
      ]
     },
     "metadata": {},
     "output_type": "display_data"
    }
   ],
   "source": [
    "plt.hist([df_Channel1['Detergents_Paper'],df_Channel2['Detergents_Paper']],\n",
    "        bins=15, label=['Horeca','Retail'], color=['#FACC2E','#2E64FE'], rwidth=100, range=(0,25000))"
   ]
  },
  {
   "cell_type": "markdown",
   "metadata": {},
   "source": [
    "- 洗剤、紙製品はRetailの方が、取引先あたりの卸売額が大きい傾向がある\n",
    "\n",
    "Regionごと"
   ]
  },
  {
   "cell_type": "code",
   "execution_count": 17,
   "metadata": {},
   "outputs": [
    {
     "data": {
      "text/plain": [
       "([array([ 52.,   4.,   8.,   5.,   0.,   3.,   0.,   2.,   1.,   0.,   0.,\n",
       "           2.,   0.,   0.,   0.]),\n",
       "  array([ 28.,   3.,   5.,   2.,   2.,   2.,   1.,   2.,   0.,   0.,   1.,\n",
       "           0.,   0.,   0.,   0.]),\n",
       "  array([ 191.,   33.,   34.,   12.,   24.,    6.,    1.,    4.,    3.,\n",
       "            1.,    1.,    1.,    1.,    0.,    2.])],\n",
       " array([     0.        ,   1666.66666667,   3333.33333333,   5000.        ,\n",
       "          6666.66666667,   8333.33333333,  10000.        ,  11666.66666667,\n",
       "         13333.33333333,  15000.        ,  16666.66666667,  18333.33333333,\n",
       "         20000.        ,  21666.66666667,  23333.33333333,  25000.        ]),\n",
       " <a list of 3 Lists of Patches objects>)"
      ]
     },
     "execution_count": 17,
     "metadata": {},
     "output_type": "execute_result"
    },
    {
     "data": {
      "image/png": "[encoded data removed]",
      "text/plain": [
       "<matplotlib.figure.Figure at 0x11a38aba8>"
      ]
     },
     "metadata": {},
     "output_type": "display_data"
    }
   ],
   "source": [
    "plt.hist([df_Region1['Detergents_Paper'],df_Region2['Detergents_Paper'],df_Region3['Detergents_Paper']],\n",
    "        bins=15, label=['Lisbon','Oporto','Other Region'], color=['#2EFE2E','#FE2E2E','#F7FE2E'], rwidth=100, range=(0,25000))"
   ]
  },
  {
   "cell_type": "markdown",
   "metadata": {},
   "source": [
    "- Regionごとではそれほど分布は変わらない\n",
    "\n",
    "#### Delicatessenの分布\n",
    "Channelごと"
   ]
  },
  {
   "cell_type": "code",
   "execution_count": 18,
   "metadata": {},
   "outputs": [
    {
     "data": {
      "text/plain": [
       "([array([ 207.,   61.,   15.,    8.,    2.,    1.,    1.,    0.,    0.,\n",
       "            0.,    2.,    0.,    0.,    0.,    0.]),\n",
       "  array([ 69.,  47.,  14.,   6.,   4.,   1.,   0.,   0.,   0.,   0.,   0.,\n",
       "           0.,   1.,   0.,   0.])],\n",
       " array([     0.        ,   1333.33333333,   2666.66666667,   4000.        ,\n",
       "          5333.33333333,   6666.66666667,   8000.        ,   9333.33333333,\n",
       "         10666.66666667,  12000.        ,  13333.33333333,  14666.66666667,\n",
       "         16000.        ,  17333.33333333,  18666.66666667,  20000.        ]),\n",
       " <a list of 2 Lists of Patches objects>)"
      ]
     },
     "execution_count": 18,
     "metadata": {},
     "output_type": "execute_result"
    },
    {
     "data": {
      "image/png": "[encoded data removed]",
      "text/plain": [
       "<matplotlib.figure.Figure at 0x119c24550>"
      ]
     },
     "metadata": {},
     "output_type": "display_data"
    }
   ],
   "source": [
    "plt.hist([df_Channel1['Delicassen'],df_Channel2['Delicassen']],\n",
    "        bins=15, label=['Horeca','Retail'], color=['#FACC2E','#2E64FE'], rwidth=100, range=(0,20000))"
   ]
  },
  {
   "cell_type": "markdown",
   "metadata": {},
   "source": [
    "- Channelごとではそれほど分布は変わらない\n",
    "\n",
    "Regionごと"
   ]
  },
  {
   "cell_type": "code",
   "execution_count": 19,
   "metadata": {},
   "outputs": [
    {
     "data": {
      "text/plain": [
       "([array([ 50.,  17.,   7.,   1.,   1.,   1.,   0.,   0.,   0.,   0.,   0.,\n",
       "           0.,   0.,   0.,   0.]),\n",
       "  array([ 34.,  10.,   2.,   0.,   1.,   0.,   0.,   0.,   0.,   0.,   0.,\n",
       "           0.,   0.,   0.,   0.]),\n",
       "  array([ 192.,   81.,   20.,   13.,    4.,    1.,    1.,    0.,    0.,\n",
       "            0.,    2.,    0.,    1.,    0.,    0.])],\n",
       " array([     0.        ,   1333.33333333,   2666.66666667,   4000.        ,\n",
       "          5333.33333333,   6666.66666667,   8000.        ,   9333.33333333,\n",
       "         10666.66666667,  12000.        ,  13333.33333333,  14666.66666667,\n",
       "         16000.        ,  17333.33333333,  18666.66666667,  20000.        ]),\n",
       " <a list of 3 Lists of Patches objects>)"
      ]
     },
     "execution_count": 19,
     "metadata": {},
     "output_type": "execute_result"
    },
    {
     "data": {
      "image/png": "[encoded data removed]",
      "text/plain": [
       "<matplotlib.figure.Figure at 0x11a6d42e8>"
      ]
     },
     "metadata": {},
     "output_type": "display_data"
    }
   ],
   "source": [
    "plt.hist([df_Region1['Delicassen'],df_Region2['Delicassen'],df_Region3['Delicassen']],\n",
    "        bins=15, label=['Lisbon','Oporto','Other Region'], color=['#2EFE2E','#FE2E2E','#F7FE2E'], rwidth=100, range=(0,20000))"
   ]
  },
  {
   "cell_type": "markdown",
   "metadata": {},
   "source": [
    "- Regionごとではそれほど分布は変わらない"
   ]
  },
  {
   "cell_type": "markdown",
   "metadata": {},
   "source": [
    "### グループ化してクロス集計してみる\n",
    "#### Regionでグループ化  \n",
    "データの情報にあったが、取引先の数を見てみる。合計行を追加しておく"
   ]
  },
  {
   "cell_type": "code",
   "execution_count": 20,
   "metadata": {},
   "outputs": [
    {
     "data": {
      "text/html": [
       "<div>\n",
       "<style>\n",
       "    .dataframe thead tr:only-child th {\n",
       "        text-align: right;\n",
       "    }\n",
       "\n",
       "    .dataframe thead th {\n",
       "        text-align: left;\n",
       "    }\n",
       "\n",
       "    .dataframe tbody tr th {\n",
       "        vertical-align: top;\n",
       "    }\n",
       "</style>\n",
       "<table border=\"1\" class=\"dataframe\">\n",
       "  <thead>\n",
       "    <tr style=\"text-align: right;\">\n",
       "      <th></th>\n",
       "      <th>Total</th>\n",
       "    </tr>\n",
       "    <tr>\n",
       "      <th>Region</th>\n",
       "      <th></th>\n",
       "    </tr>\n",
       "  </thead>\n",
       "  <tbody>\n",
       "    <tr>\n",
       "      <th>1</th>\n",
       "      <td>77</td>\n",
       "    </tr>\n",
       "    <tr>\n",
       "      <th>2</th>\n",
       "      <td>47</td>\n",
       "    </tr>\n",
       "    <tr>\n",
       "      <th>3</th>\n",
       "      <td>316</td>\n",
       "    </tr>\n",
       "  </tbody>\n",
       "</table>\n",
       "</div>"
      ],
      "text/plain": [
       "        Total\n",
       "Region       \n",
       "1          77\n",
       "2          47\n",
       "3         316"
      ]
     },
     "execution_count": 20,
     "metadata": {},
     "output_type": "execute_result"
    }
   ],
   "source": [
    "import_df['Total'] = import_df[['Fresh','Milk','Grocery','Frozen','Detergents_Paper','Delicassen']].sum(axis=1)\n",
    "import_df[['Region','Total']].groupby(['Region']).count()"
   ]
  },
  {
   "cell_type": "markdown",
   "metadata": {},
   "source": [
    "- 取引先の数は、Other Region, Lisbon, Oportoの順で多い\n",
    "\n",
    "取引額は、取引先の数に比例しそうだがどうだろうか"
   ]
  },
  {
   "cell_type": "code",
   "execution_count": 21,
   "metadata": {},
   "outputs": [
    {
     "data": {
      "text/html": [
       "<div>\n",
       "<style>\n",
       "    .dataframe thead tr:only-child th {\n",
       "        text-align: right;\n",
       "    }\n",
       "\n",
       "    .dataframe thead th {\n",
       "        text-align: left;\n",
       "    }\n",
       "\n",
       "    .dataframe tbody tr th {\n",
       "        vertical-align: top;\n",
       "    }\n",
       "</style>\n",
       "<table border=\"1\" class=\"dataframe\">\n",
       "  <thead>\n",
       "    <tr style=\"text-align: right;\">\n",
       "      <th></th>\n",
       "      <th>Fresh</th>\n",
       "      <th>Milk</th>\n",
       "      <th>Grocery</th>\n",
       "      <th>Frozen</th>\n",
       "      <th>Detergents_Paper</th>\n",
       "      <th>Delicassen</th>\n",
       "      <th>Total</th>\n",
       "    </tr>\n",
       "    <tr>\n",
       "      <th>Region</th>\n",
       "      <th></th>\n",
       "      <th></th>\n",
       "      <th></th>\n",
       "      <th></th>\n",
       "      <th></th>\n",
       "      <th></th>\n",
       "      <th></th>\n",
       "    </tr>\n",
       "  </thead>\n",
       "  <tbody>\n",
       "    <tr>\n",
       "      <th>1</th>\n",
       "      <td>854833</td>\n",
       "      <td>422454</td>\n",
       "      <td>570037</td>\n",
       "      <td>231026</td>\n",
       "      <td>204136</td>\n",
       "      <td>104327</td>\n",
       "      <td>2386813</td>\n",
       "    </tr>\n",
       "    <tr>\n",
       "      <th>2</th>\n",
       "      <td>464721</td>\n",
       "      <td>239144</td>\n",
       "      <td>433274</td>\n",
       "      <td>190132</td>\n",
       "      <td>173311</td>\n",
       "      <td>54506</td>\n",
       "      <td>1555088</td>\n",
       "    </tr>\n",
       "    <tr>\n",
       "      <th>3</th>\n",
       "      <td>3960577</td>\n",
       "      <td>1888759</td>\n",
       "      <td>2495251</td>\n",
       "      <td>930492</td>\n",
       "      <td>890410</td>\n",
       "      <td>512110</td>\n",
       "      <td>10677599</td>\n",
       "    </tr>\n",
       "  </tbody>\n",
       "</table>\n",
       "</div>"
      ],
      "text/plain": [
       "          Fresh     Milk  Grocery  Frozen  Detergents_Paper  Delicassen  \\\n",
       "Region                                                                    \n",
       "1        854833   422454   570037  231026            204136      104327   \n",
       "2        464721   239144   433274  190132            173311       54506   \n",
       "3       3960577  1888759  2495251  930492            890410      512110   \n",
       "\n",
       "           Total  \n",
       "Region            \n",
       "1        2386813  \n",
       "2        1555088  \n",
       "3       10677599  "
      ]
     },
     "execution_count": 21,
     "metadata": {},
     "output_type": "execute_result"
    }
   ],
   "source": [
    "import_df.drop('Channel',axis=1).groupby(['Region']).sum()"
   ]
  },
  {
   "cell_type": "markdown",
   "metadata": {},
   "source": [
    "- 取引額も、Other Region, Lisbon, Oportoの順で多い\n",
    "- 卸業者なので、ロジスティクスを考えると取引先との距離と関係が深いかもしれない\n",
    "\n",
    "取引先あたりの卸売額を見てみる"
   ]
  },
  {
   "cell_type": "code",
   "execution_count": 22,
   "metadata": {},
   "outputs": [
    {
     "data": {
      "text/html": [
       "<div>\n",
       "<style>\n",
       "    .dataframe thead tr:only-child th {\n",
       "        text-align: right;\n",
       "    }\n",
       "\n",
       "    .dataframe thead th {\n",
       "        text-align: left;\n",
       "    }\n",
       "\n",
       "    .dataframe tbody tr th {\n",
       "        vertical-align: top;\n",
       "    }\n",
       "</style>\n",
       "<table border=\"1\" class=\"dataframe\">\n",
       "  <thead>\n",
       "    <tr style=\"text-align: right;\">\n",
       "      <th></th>\n",
       "      <th>Fresh</th>\n",
       "      <th>Milk</th>\n",
       "      <th>Grocery</th>\n",
       "      <th>Frozen</th>\n",
       "      <th>Detergents_Paper</th>\n",
       "      <th>Delicassen</th>\n",
       "      <th>Total</th>\n",
       "    </tr>\n",
       "    <tr>\n",
       "      <th>Region</th>\n",
       "      <th></th>\n",
       "      <th></th>\n",
       "      <th></th>\n",
       "      <th></th>\n",
       "      <th></th>\n",
       "      <th></th>\n",
       "      <th></th>\n",
       "    </tr>\n",
       "  </thead>\n",
       "  <tbody>\n",
       "    <tr>\n",
       "      <th>1</th>\n",
       "      <td>11101.727273</td>\n",
       "      <td>5486.415584</td>\n",
       "      <td>7403.077922</td>\n",
       "      <td>3000.337662</td>\n",
       "      <td>2651.116883</td>\n",
       "      <td>1354.896104</td>\n",
       "      <td>30997.571429</td>\n",
       "    </tr>\n",
       "    <tr>\n",
       "      <th>2</th>\n",
       "      <td>9887.680851</td>\n",
       "      <td>5088.170213</td>\n",
       "      <td>9218.595745</td>\n",
       "      <td>4045.361702</td>\n",
       "      <td>3687.468085</td>\n",
       "      <td>1159.702128</td>\n",
       "      <td>33086.978723</td>\n",
       "    </tr>\n",
       "    <tr>\n",
       "      <th>3</th>\n",
       "      <td>12533.471519</td>\n",
       "      <td>5977.085443</td>\n",
       "      <td>7896.363924</td>\n",
       "      <td>2944.594937</td>\n",
       "      <td>2817.753165</td>\n",
       "      <td>1620.601266</td>\n",
       "      <td>33789.870253</td>\n",
       "    </tr>\n",
       "  </tbody>\n",
       "</table>\n",
       "</div>"
      ],
      "text/plain": [
       "               Fresh         Milk      Grocery       Frozen  Detergents_Paper  \\\n",
       "Region                                                                          \n",
       "1       11101.727273  5486.415584  7403.077922  3000.337662       2651.116883   \n",
       "2        9887.680851  5088.170213  9218.595745  4045.361702       3687.468085   \n",
       "3       12533.471519  5977.085443  7896.363924  2944.594937       2817.753165   \n",
       "\n",
       "         Delicassen         Total  \n",
       "Region                             \n",
       "1       1354.896104  30997.571429  \n",
       "2       1159.702128  33086.978723  \n",
       "3       1620.601266  33789.870253  "
      ]
     },
     "execution_count": 22,
     "metadata": {},
     "output_type": "execute_result"
    }
   ],
   "source": [
    "import_df.drop('Channel',axis=1).groupby(['Region']).mean()"
   ]
  },
  {
   "cell_type": "markdown",
   "metadata": {},
   "source": [
    "- Grocery, Frozen, Detergents_Paperは取引先あたりの卸売額順が、Regionごとの卸売額順と異なる\n",
    "- OportoのGrocery, Frozen, Detergents_Paperは、Regionごとの卸売額の割に取引先あたりの卸売額が大きい\n",
    "\n",
    "#### Channelでグループ化\n",
    "取引先の数を見てみる"
   ]
  },
  {
   "cell_type": "code",
   "execution_count": 23,
   "metadata": {},
   "outputs": [
    {
     "data": {
      "text/html": [
       "<div>\n",
       "<style>\n",
       "    .dataframe thead tr:only-child th {\n",
       "        text-align: right;\n",
       "    }\n",
       "\n",
       "    .dataframe thead th {\n",
       "        text-align: left;\n",
       "    }\n",
       "\n",
       "    .dataframe tbody tr th {\n",
       "        vertical-align: top;\n",
       "    }\n",
       "</style>\n",
       "<table border=\"1\" class=\"dataframe\">\n",
       "  <thead>\n",
       "    <tr style=\"text-align: right;\">\n",
       "      <th></th>\n",
       "      <th>Total</th>\n",
       "    </tr>\n",
       "    <tr>\n",
       "      <th>Channel</th>\n",
       "      <th></th>\n",
       "    </tr>\n",
       "  </thead>\n",
       "  <tbody>\n",
       "    <tr>\n",
       "      <th>1</th>\n",
       "      <td>298</td>\n",
       "    </tr>\n",
       "    <tr>\n",
       "      <th>2</th>\n",
       "      <td>142</td>\n",
       "    </tr>\n",
       "  </tbody>\n",
       "</table>\n",
       "</div>"
      ],
      "text/plain": [
       "         Total\n",
       "Channel       \n",
       "1          298\n",
       "2          142"
      ]
     },
     "execution_count": 23,
     "metadata": {},
     "output_type": "execute_result"
    }
   ],
   "source": [
    "import_df[['Channel','Total']].groupby(['Channel']).count()"
   ]
  },
  {
   "cell_type": "markdown",
   "metadata": {},
   "source": [
    "- 取引先の数は、Horecaが倍近く多い\n",
    "\n",
    "取引額は、取引先の数に比例しそうだがどうだろうか。"
   ]
  },
  {
   "cell_type": "code",
   "execution_count": 24,
   "metadata": {},
   "outputs": [
    {
     "data": {
      "text/html": [
       "<div>\n",
       "<style>\n",
       "    .dataframe thead tr:only-child th {\n",
       "        text-align: right;\n",
       "    }\n",
       "\n",
       "    .dataframe thead th {\n",
       "        text-align: left;\n",
       "    }\n",
       "\n",
       "    .dataframe tbody tr th {\n",
       "        vertical-align: top;\n",
       "    }\n",
       "</style>\n",
       "<table border=\"1\" class=\"dataframe\">\n",
       "  <thead>\n",
       "    <tr style=\"text-align: right;\">\n",
       "      <th></th>\n",
       "      <th>Fresh</th>\n",
       "      <th>Milk</th>\n",
       "      <th>Grocery</th>\n",
       "      <th>Frozen</th>\n",
       "      <th>Detergents_Paper</th>\n",
       "      <th>Delicassen</th>\n",
       "      <th>Total</th>\n",
       "    </tr>\n",
       "    <tr>\n",
       "      <th>Channel</th>\n",
       "      <th></th>\n",
       "      <th></th>\n",
       "      <th></th>\n",
       "      <th></th>\n",
       "      <th></th>\n",
       "      <th></th>\n",
       "      <th></th>\n",
       "    </tr>\n",
       "  </thead>\n",
       "  <tbody>\n",
       "    <tr>\n",
       "      <th>1</th>\n",
       "      <td>4015717</td>\n",
       "      <td>1028614</td>\n",
       "      <td>1180717</td>\n",
       "      <td>1116979</td>\n",
       "      <td>235587</td>\n",
       "      <td>421955</td>\n",
       "      <td>7999569</td>\n",
       "    </tr>\n",
       "    <tr>\n",
       "      <th>2</th>\n",
       "      <td>1264414</td>\n",
       "      <td>1521743</td>\n",
       "      <td>2317845</td>\n",
       "      <td>234671</td>\n",
       "      <td>1032270</td>\n",
       "      <td>248988</td>\n",
       "      <td>6619931</td>\n",
       "    </tr>\n",
       "  </tbody>\n",
       "</table>\n",
       "</div>"
      ],
      "text/plain": [
       "           Fresh     Milk  Grocery   Frozen  Detergents_Paper  Delicassen  \\\n",
       "Channel                                                                     \n",
       "1        4015717  1028614  1180717  1116979            235587      421955   \n",
       "2        1264414  1521743  2317845   234671           1032270      248988   \n",
       "\n",
       "           Total  \n",
       "Channel           \n",
       "1        7999569  \n",
       "2        6619931  "
      ]
     },
     "execution_count": 24,
     "metadata": {},
     "output_type": "execute_result"
    }
   ],
   "source": [
    "import_df.drop('Region',axis=1).groupby(['Channel']).sum()"
   ]
  },
  {
   "cell_type": "markdown",
   "metadata": {},
   "source": [
    "- Horecaは、Retailに対して倍近い取引があるにもかかわらず、卸売額はそれほど大きな差がない\n",
    "- ポルトガルの生活感がわからないので、データから解釈するには想像の域を出ないことが多い\n",
    "- 両方を比べると、Horecaの卸売額がRetailを上回るのは、Fresh, Frozen, Dericatessen  \n",
    "日本の飲食店でバイトした経験から、Milkは専門の別卸売業者から、Groceryは加工食品のため少ないものと想像\n",
    "- その他の販売チャネルでFreshの額がHorecaと比べて小さいのは、Freshを専売している商店の集まった市場が多いのかも\n",
    "\n",
    "- Horeca\n",
    " - Fresh, Grocery, Frozenの順で卸売額が多い\n",
    " - Detergents_Paperは、特にHotelで専門の卸売業者から仕入れているか、もしくはRetailほど数は出ないということか\n",
    " - Delicatessenは、調理したものを客に出すため少ないのだろう\n",
    " \n",
    "- その他の販売チャネル(スーパーマーケット、商店等？)\n",
    " - Grocery, Milk, Freshの順で卸売額が多い\n",
    "\n",
    "取引先あたりの卸売額を見てみる"
   ]
  },
  {
   "cell_type": "code",
   "execution_count": 25,
   "metadata": {},
   "outputs": [
    {
     "data": {
      "text/html": [
       "<div>\n",
       "<style>\n",
       "    .dataframe thead tr:only-child th {\n",
       "        text-align: right;\n",
       "    }\n",
       "\n",
       "    .dataframe thead th {\n",
       "        text-align: left;\n",
       "    }\n",
       "\n",
       "    .dataframe tbody tr th {\n",
       "        vertical-align: top;\n",
       "    }\n",
       "</style>\n",
       "<table border=\"1\" class=\"dataframe\">\n",
       "  <thead>\n",
       "    <tr style=\"text-align: right;\">\n",
       "      <th></th>\n",
       "      <th>Fresh</th>\n",
       "      <th>Milk</th>\n",
       "      <th>Grocery</th>\n",
       "      <th>Frozen</th>\n",
       "      <th>Detergents_Paper</th>\n",
       "      <th>Delicassen</th>\n",
       "      <th>Total</th>\n",
       "    </tr>\n",
       "    <tr>\n",
       "      <th>Channel</th>\n",
       "      <th></th>\n",
       "      <th></th>\n",
       "      <th></th>\n",
       "      <th></th>\n",
       "      <th></th>\n",
       "      <th></th>\n",
       "      <th></th>\n",
       "    </tr>\n",
       "  </thead>\n",
       "  <tbody>\n",
       "    <tr>\n",
       "      <th>1</th>\n",
       "      <td>13475.560403</td>\n",
       "      <td>3451.724832</td>\n",
       "      <td>3962.137584</td>\n",
       "      <td>3748.251678</td>\n",
       "      <td>790.560403</td>\n",
       "      <td>1415.956376</td>\n",
       "      <td>26844.191275</td>\n",
       "    </tr>\n",
       "    <tr>\n",
       "      <th>2</th>\n",
       "      <td>8904.323944</td>\n",
       "      <td>10716.500000</td>\n",
       "      <td>16322.852113</td>\n",
       "      <td>1652.612676</td>\n",
       "      <td>7269.507042</td>\n",
       "      <td>1753.436620</td>\n",
       "      <td>46619.232394</td>\n",
       "    </tr>\n",
       "  </tbody>\n",
       "</table>\n",
       "</div>"
      ],
      "text/plain": [
       "                Fresh          Milk       Grocery       Frozen  \\\n",
       "Channel                                                          \n",
       "1        13475.560403   3451.724832   3962.137584  3748.251678   \n",
       "2         8904.323944  10716.500000  16322.852113  1652.612676   \n",
       "\n",
       "         Detergents_Paper   Delicassen         Total  \n",
       "Channel                                               \n",
       "1              790.560403  1415.956376  26844.191275  \n",
       "2             7269.507042  1753.436620  46619.232394  "
      ]
     },
     "execution_count": 25,
     "metadata": {},
     "output_type": "execute_result"
    }
   ],
   "source": [
    "import_df.drop('Region',axis=1).groupby(['Channel']).mean()"
   ]
  },
  {
   "cell_type": "markdown",
   "metadata": {},
   "source": [
    "- 取引先ごとの取引額でみると、Delicatessenは取引先あたりの卸売額順が、販売チャネルごとの卸売額順と異なる"
   ]
  },
  {
   "cell_type": "markdown",
   "metadata": {},
   "source": [
    "##### RegionとChannelでグループ化してクロス集計\n",
    "\n",
    "取引先の数を見てみる"
   ]
  },
  {
   "cell_type": "code",
   "execution_count": 26,
   "metadata": {},
   "outputs": [
    {
     "data": {
      "text/html": [
       "<div>\n",
       "<style>\n",
       "    .dataframe thead tr:only-child th {\n",
       "        text-align: right;\n",
       "    }\n",
       "\n",
       "    .dataframe thead th {\n",
       "        text-align: left;\n",
       "    }\n",
       "\n",
       "    .dataframe tbody tr th {\n",
       "        vertical-align: top;\n",
       "    }\n",
       "</style>\n",
       "<table border=\"1\" class=\"dataframe\">\n",
       "  <thead>\n",
       "    <tr style=\"text-align: right;\">\n",
       "      <th></th>\n",
       "      <th></th>\n",
       "      <th>Total</th>\n",
       "    </tr>\n",
       "    <tr>\n",
       "      <th>Region</th>\n",
       "      <th>Channel</th>\n",
       "      <th></th>\n",
       "    </tr>\n",
       "  </thead>\n",
       "  <tbody>\n",
       "    <tr>\n",
       "      <th rowspan=\"2\" valign=\"top\">1</th>\n",
       "      <th>1</th>\n",
       "      <td>59</td>\n",
       "    </tr>\n",
       "    <tr>\n",
       "      <th>2</th>\n",
       "      <td>18</td>\n",
       "    </tr>\n",
       "    <tr>\n",
       "      <th rowspan=\"2\" valign=\"top\">2</th>\n",
       "      <th>1</th>\n",
       "      <td>28</td>\n",
       "    </tr>\n",
       "    <tr>\n",
       "      <th>2</th>\n",
       "      <td>19</td>\n",
       "    </tr>\n",
       "    <tr>\n",
       "      <th rowspan=\"2\" valign=\"top\">3</th>\n",
       "      <th>1</th>\n",
       "      <td>211</td>\n",
       "    </tr>\n",
       "    <tr>\n",
       "      <th>2</th>\n",
       "      <td>105</td>\n",
       "    </tr>\n",
       "  </tbody>\n",
       "</table>\n",
       "</div>"
      ],
      "text/plain": [
       "                Total\n",
       "Region Channel       \n",
       "1      1           59\n",
       "       2           18\n",
       "2      1           28\n",
       "       2           19\n",
       "3      1          211\n",
       "       2          105"
      ]
     },
     "execution_count": 26,
     "metadata": {},
     "output_type": "execute_result"
    }
   ],
   "source": [
    "import_df[['Region','Channel','Total']].groupby(['Region','Channel']).count()"
   ]
  },
  {
   "cell_type": "markdown",
   "metadata": {},
   "source": [
    "- 全取引先に対する地域ごとのHorecaの比率はリスボンが高い\n",
    "\n",
    "取引額はどうだろうか"
   ]
  },
  {
   "cell_type": "code",
   "execution_count": 27,
   "metadata": {},
   "outputs": [
    {
     "data": {
      "text/html": [
       "<div>\n",
       "<style>\n",
       "    .dataframe thead tr:only-child th {\n",
       "        text-align: right;\n",
       "    }\n",
       "\n",
       "    .dataframe thead th {\n",
       "        text-align: left;\n",
       "    }\n",
       "\n",
       "    .dataframe tbody tr th {\n",
       "        vertical-align: top;\n",
       "    }\n",
       "</style>\n",
       "<table border=\"1\" class=\"dataframe\">\n",
       "  <thead>\n",
       "    <tr style=\"text-align: right;\">\n",
       "      <th></th>\n",
       "      <th></th>\n",
       "      <th>Fresh</th>\n",
       "      <th>Milk</th>\n",
       "      <th>Grocery</th>\n",
       "      <th>Frozen</th>\n",
       "      <th>Detergents_Paper</th>\n",
       "      <th>Delicassen</th>\n",
       "      <th>Total</th>\n",
       "    </tr>\n",
       "    <tr>\n",
       "      <th>Region</th>\n",
       "      <th>Channel</th>\n",
       "      <th></th>\n",
       "      <th></th>\n",
       "      <th></th>\n",
       "      <th></th>\n",
       "      <th></th>\n",
       "      <th></th>\n",
       "      <th></th>\n",
       "    </tr>\n",
       "  </thead>\n",
       "  <tbody>\n",
       "    <tr>\n",
       "      <th rowspan=\"2\" valign=\"top\">1</th>\n",
       "      <th>1</th>\n",
       "      <td>761233</td>\n",
       "      <td>228342</td>\n",
       "      <td>237542</td>\n",
       "      <td>184512</td>\n",
       "      <td>56081</td>\n",
       "      <td>70632</td>\n",
       "      <td>1538342</td>\n",
       "    </tr>\n",
       "    <tr>\n",
       "      <th>2</th>\n",
       "      <td>93600</td>\n",
       "      <td>194112</td>\n",
       "      <td>332495</td>\n",
       "      <td>46514</td>\n",
       "      <td>148055</td>\n",
       "      <td>33695</td>\n",
       "      <td>848471</td>\n",
       "    </tr>\n",
       "    <tr>\n",
       "      <th rowspan=\"2\" valign=\"top\">2</th>\n",
       "      <th>1</th>\n",
       "      <td>326215</td>\n",
       "      <td>64519</td>\n",
       "      <td>123074</td>\n",
       "      <td>160861</td>\n",
       "      <td>13516</td>\n",
       "      <td>30965</td>\n",
       "      <td>719150</td>\n",
       "    </tr>\n",
       "    <tr>\n",
       "      <th>2</th>\n",
       "      <td>138506</td>\n",
       "      <td>174625</td>\n",
       "      <td>310200</td>\n",
       "      <td>29271</td>\n",
       "      <td>159795</td>\n",
       "      <td>23541</td>\n",
       "      <td>835938</td>\n",
       "    </tr>\n",
       "    <tr>\n",
       "      <th rowspan=\"2\" valign=\"top\">3</th>\n",
       "      <th>1</th>\n",
       "      <td>2928269</td>\n",
       "      <td>735753</td>\n",
       "      <td>820101</td>\n",
       "      <td>771606</td>\n",
       "      <td>165990</td>\n",
       "      <td>320358</td>\n",
       "      <td>5742077</td>\n",
       "    </tr>\n",
       "    <tr>\n",
       "      <th>2</th>\n",
       "      <td>1032308</td>\n",
       "      <td>1153006</td>\n",
       "      <td>1675150</td>\n",
       "      <td>158886</td>\n",
       "      <td>724420</td>\n",
       "      <td>191752</td>\n",
       "      <td>4935522</td>\n",
       "    </tr>\n",
       "  </tbody>\n",
       "</table>\n",
       "</div>"
      ],
      "text/plain": [
       "                  Fresh     Milk  Grocery  Frozen  Detergents_Paper  \\\n",
       "Region Channel                                                        \n",
       "1      1         761233   228342   237542  184512             56081   \n",
       "       2          93600   194112   332495   46514            148055   \n",
       "2      1         326215    64519   123074  160861             13516   \n",
       "       2         138506   174625   310200   29271            159795   \n",
       "3      1        2928269   735753   820101  771606            165990   \n",
       "       2        1032308  1153006  1675150  158886            724420   \n",
       "\n",
       "                Delicassen    Total  \n",
       "Region Channel                       \n",
       "1      1             70632  1538342  \n",
       "       2             33695   848471  \n",
       "2      1             30965   719150  \n",
       "       2             23541   835938  \n",
       "3      1            320358  5742077  \n",
       "       2            191752  4935522  "
      ]
     },
     "execution_count": 27,
     "metadata": {},
     "output_type": "execute_result"
    }
   ],
   "source": [
    "import_df.groupby(['Region','Channel']).sum()"
   ]
  },
  {
   "cell_type": "markdown",
   "metadata": {},
   "source": [
    "- 利益をあげている地域と販売チャネルは\n",
    "     1. Other RegionのHoreca\n",
    "     2. Other RegionのRetail\n",
    "     3. LisbonのHoreca\n",
    "- 品目単位で利益をあげているのは\n",
    "     1. Other Region,Horeca,Fresh\n",
    "     2. Other Region,Retail,Grocery\n",
    "     3. Other Region,Retail,Milk\n",
    "- ポルトのHotericaは全体の特徴と異なり、生鮮品、冷凍品、食料品の順で卸売額が多い\n",
    "\n",
    "取引先あたりの卸売額はどうだろうか"
   ]
  },
  {
   "cell_type": "code",
   "execution_count": 28,
   "metadata": {},
   "outputs": [
    {
     "data": {
      "text/html": [
       "<div>\n",
       "<style>\n",
       "    .dataframe thead tr:only-child th {\n",
       "        text-align: right;\n",
       "    }\n",
       "\n",
       "    .dataframe thead th {\n",
       "        text-align: left;\n",
       "    }\n",
       "\n",
       "    .dataframe tbody tr th {\n",
       "        vertical-align: top;\n",
       "    }\n",
       "</style>\n",
       "<table border=\"1\" class=\"dataframe\">\n",
       "  <thead>\n",
       "    <tr style=\"text-align: right;\">\n",
       "      <th></th>\n",
       "      <th></th>\n",
       "      <th>Fresh</th>\n",
       "      <th>Milk</th>\n",
       "      <th>Grocery</th>\n",
       "      <th>Frozen</th>\n",
       "      <th>Detergents_Paper</th>\n",
       "      <th>Delicassen</th>\n",
       "      <th>Total</th>\n",
       "    </tr>\n",
       "    <tr>\n",
       "      <th>Region</th>\n",
       "      <th>Channel</th>\n",
       "      <th></th>\n",
       "      <th></th>\n",
       "      <th></th>\n",
       "      <th></th>\n",
       "      <th></th>\n",
       "      <th></th>\n",
       "      <th></th>\n",
       "    </tr>\n",
       "  </thead>\n",
       "  <tbody>\n",
       "    <tr>\n",
       "      <th rowspan=\"2\" valign=\"top\">1</th>\n",
       "      <th>1</th>\n",
       "      <td>12902.254237</td>\n",
       "      <td>3870.203390</td>\n",
       "      <td>4026.135593</td>\n",
       "      <td>3127.322034</td>\n",
       "      <td>950.525424</td>\n",
       "      <td>1197.152542</td>\n",
       "      <td>26073.593220</td>\n",
       "    </tr>\n",
       "    <tr>\n",
       "      <th>2</th>\n",
       "      <td>5200.000000</td>\n",
       "      <td>10784.000000</td>\n",
       "      <td>18471.944444</td>\n",
       "      <td>2584.111111</td>\n",
       "      <td>8225.277778</td>\n",
       "      <td>1871.944444</td>\n",
       "      <td>47137.277778</td>\n",
       "    </tr>\n",
       "    <tr>\n",
       "      <th rowspan=\"2\" valign=\"top\">2</th>\n",
       "      <th>1</th>\n",
       "      <td>11650.535714</td>\n",
       "      <td>2304.250000</td>\n",
       "      <td>4395.500000</td>\n",
       "      <td>5745.035714</td>\n",
       "      <td>482.714286</td>\n",
       "      <td>1105.892857</td>\n",
       "      <td>25683.928571</td>\n",
       "    </tr>\n",
       "    <tr>\n",
       "      <th>2</th>\n",
       "      <td>7289.789474</td>\n",
       "      <td>9190.789474</td>\n",
       "      <td>16326.315789</td>\n",
       "      <td>1540.578947</td>\n",
       "      <td>8410.263158</td>\n",
       "      <td>1239.000000</td>\n",
       "      <td>43996.736842</td>\n",
       "    </tr>\n",
       "    <tr>\n",
       "      <th rowspan=\"2\" valign=\"top\">3</th>\n",
       "      <th>1</th>\n",
       "      <td>13878.052133</td>\n",
       "      <td>3486.981043</td>\n",
       "      <td>3886.734597</td>\n",
       "      <td>3656.900474</td>\n",
       "      <td>786.682464</td>\n",
       "      <td>1518.284360</td>\n",
       "      <td>27213.635071</td>\n",
       "    </tr>\n",
       "    <tr>\n",
       "      <th>2</th>\n",
       "      <td>9831.504762</td>\n",
       "      <td>10981.009524</td>\n",
       "      <td>15953.809524</td>\n",
       "      <td>1513.200000</td>\n",
       "      <td>6899.238095</td>\n",
       "      <td>1826.209524</td>\n",
       "      <td>47004.971429</td>\n",
       "    </tr>\n",
       "  </tbody>\n",
       "</table>\n",
       "</div>"
      ],
      "text/plain": [
       "                       Fresh          Milk       Grocery       Frozen  \\\n",
       "Region Channel                                                          \n",
       "1      1        12902.254237   3870.203390   4026.135593  3127.322034   \n",
       "       2         5200.000000  10784.000000  18471.944444  2584.111111   \n",
       "2      1        11650.535714   2304.250000   4395.500000  5745.035714   \n",
       "       2         7289.789474   9190.789474  16326.315789  1540.578947   \n",
       "3      1        13878.052133   3486.981043   3886.734597  3656.900474   \n",
       "       2         9831.504762  10981.009524  15953.809524  1513.200000   \n",
       "\n",
       "                Detergents_Paper   Delicassen         Total  \n",
       "Region Channel                                               \n",
       "1      1              950.525424  1197.152542  26073.593220  \n",
       "       2             8225.277778  1871.944444  47137.277778  \n",
       "2      1              482.714286  1105.892857  25683.928571  \n",
       "       2             8410.263158  1239.000000  43996.736842  \n",
       "3      1              786.682464  1518.284360  27213.635071  \n",
       "       2             6899.238095  1826.209524  47004.971429  "
      ]
     },
     "execution_count": 28,
     "metadata": {},
     "output_type": "execute_result"
    }
   ],
   "source": [
    "import_df.groupby(['Region','Channel']).mean()"
   ]
  },
  {
   "cell_type": "markdown",
   "metadata": {
    "collapsed": true
   },
   "source": [
    "- Retailの方が、取引先あたりの卸売額が大きい\n",
    "- 取引先あたりの卸売額が多いのは\n",
    "    1. Lisbon,Retail\n",
    "    2. Other Region,Retail\n",
    "    3. Oporto,Retail"
   ]
  },
  {
   "cell_type": "markdown",
   "metadata": {},
   "source": [
    "### 分析の目的を定める\n",
    "本音はただクラスタリングを試したいだけなのだが、分析が必要になった背景を仮定したい。  \n",
    "新たに現在取り扱っていない多品目を生産している生産者から生鮮食品を仕入れられることになった。  \n",
    "クラスタリングした結果から、新たな生鮮品の発注を取れそうな見込み顧客を割り出したいと仮定する。"
   ]
  },
  {
   "cell_type": "markdown",
   "metadata": {},
   "source": [
    "### クラスタリングを試す\n",
    "#### クラスタリングに利用する項目を選定\n",
    "MilkとDetergents_PaperはFreshと相関関係が薄いということにして除外しておく\n",
    "- Region\n",
    "- Channel\n",
    "- Fresh\n",
    "- Grocery\n",
    "- Frosen\n",
    "- Delicatessen"
   ]
  },
  {
   "cell_type": "code",
   "execution_count": 29,
   "metadata": {},
   "outputs": [
    {
     "data": {
      "text/html": [
       "<div>\n",
       "<style>\n",
       "    .dataframe thead tr:only-child th {\n",
       "        text-align: right;\n",
       "    }\n",
       "\n",
       "    .dataframe thead th {\n",
       "        text-align: left;\n",
       "    }\n",
       "\n",
       "    .dataframe tbody tr th {\n",
       "        vertical-align: top;\n",
       "    }\n",
       "</style>\n",
       "<table border=\"1\" class=\"dataframe\">\n",
       "  <thead>\n",
       "    <tr style=\"text-align: right;\">\n",
       "      <th></th>\n",
       "      <th>Channel</th>\n",
       "      <th>Region</th>\n",
       "      <th>Fresh</th>\n",
       "      <th>Grocery</th>\n",
       "      <th>Frozen</th>\n",
       "      <th>Delicassen</th>\n",
       "    </tr>\n",
       "  </thead>\n",
       "  <tbody>\n",
       "    <tr>\n",
       "      <th>0</th>\n",
       "      <td>2</td>\n",
       "      <td>3</td>\n",
       "      <td>12669</td>\n",
       "      <td>7561</td>\n",
       "      <td>214</td>\n",
       "      <td>1338</td>\n",
       "    </tr>\n",
       "    <tr>\n",
       "      <th>1</th>\n",
       "      <td>2</td>\n",
       "      <td>3</td>\n",
       "      <td>7057</td>\n",
       "      <td>9568</td>\n",
       "      <td>1762</td>\n",
       "      <td>1776</td>\n",
       "    </tr>\n",
       "    <tr>\n",
       "      <th>2</th>\n",
       "      <td>2</td>\n",
       "      <td>3</td>\n",
       "      <td>6353</td>\n",
       "      <td>7684</td>\n",
       "      <td>2405</td>\n",
       "      <td>7844</td>\n",
       "    </tr>\n",
       "    <tr>\n",
       "      <th>3</th>\n",
       "      <td>1</td>\n",
       "      <td>3</td>\n",
       "      <td>13265</td>\n",
       "      <td>4221</td>\n",
       "      <td>6404</td>\n",
       "      <td>1788</td>\n",
       "    </tr>\n",
       "    <tr>\n",
       "      <th>4</th>\n",
       "      <td>2</td>\n",
       "      <td>3</td>\n",
       "      <td>22615</td>\n",
       "      <td>7198</td>\n",
       "      <td>3915</td>\n",
       "      <td>5185</td>\n",
       "    </tr>\n",
       "  </tbody>\n",
       "</table>\n",
       "</div>"
      ],
      "text/plain": [
       "   Channel  Region  Fresh  Grocery  Frozen  Delicassen\n",
       "0        2       3  12669     7561     214        1338\n",
       "1        2       3   7057     9568    1762        1776\n",
       "2        2       3   6353     7684    2405        7844\n",
       "3        1       3  13265     4221    6404        1788\n",
       "4        2       3  22615     7198    3915        5185"
      ]
     },
     "execution_count": 29,
     "metadata": {},
     "output_type": "execute_result"
    }
   ],
   "source": [
    "cluster_df = import_df.drop(['Milk','Detergents_Paper','Total'],axis=1)\n",
    "cluster_df.head()"
   ]
  },
  {
   "cell_type": "markdown",
   "metadata": {},
   "source": [
    "行列 (Array) に変換して転置する"
   ]
  },
  {
   "cell_type": "code",
   "execution_count": 30,
   "metadata": {},
   "outputs": [
    {
     "data": {
      "text/plain": [
       "array([[    2,     3, 12669,  7561,   214,  1338],\n",
       "       [    2,     3,  7057,  9568,  1762,  1776],\n",
       "       [    2,     3,  6353,  7684,  2405,  7844],\n",
       "       ..., \n",
       "       [    2,     3, 14531, 30243,   437,  1867],\n",
       "       [    1,     3, 10290,  2232,  1038,  2125],\n",
       "       [    1,     3,  2787,  2510,    65,    52]], dtype=int32)"
      ]
     },
     "execution_count": 30,
     "metadata": {},
     "output_type": "execute_result"
    }
   ],
   "source": [
    "import numpy as np\n",
    "cluster_array = np.array([cluster_df['Channel'].tolist(),\n",
    "                          cluster_df['Region'].tolist(),\n",
    "                          cluster_df['Fresh'].tolist(),\n",
    "                          cluster_df['Grocery'].tolist(),\n",
    "                          cluster_df['Frozen'].tolist(),\n",
    "                          cluster_df['Delicassen'].tolist()\n",
    "                         ], np.int32)\n",
    "cluster_array = cluster_array.T\n",
    "cluster_array"
   ]
  },
  {
   "cell_type": "markdown",
   "metadata": {},
   "source": [
    "#### クラスタ分析を実行（本来はこれを何度も試行するが、今回は一回で）"
   ]
  },
  {
   "cell_type": "code",
   "execution_count": 31,
   "metadata": {},
   "outputs": [
    {
     "data": {
      "text/plain": [
       "array([0, 0, 0, 3, 3, 0, 0, 0, 0, 2, 0, 0, 3, 3, 3, 0, 0, 0, 3, 0, 3, 0, 3,\n",
       "       3, 3, 3, 0, 3, 2, 1, 3, 0, 3, 3, 0, 0, 3, 3, 2, 1, 3, 3, 2, 2, 0, 2,\n",
       "       2, 4, 0, 2, 0, 0, 1, 0, 3, 0, 2, 0, 3, 0, 0, 4, 0, 2, 0, 2, 0, 3, 0,\n",
       "       0, 3, 2, 0, 3, 0, 3, 0, 2, 0, 0, 0, 2, 0, 3, 0, 4, 2, 1, 0, 3, 0, 0,\n",
       "       2, 5, 0, 0, 0, 0, 0, 0, 0, 2, 0, 1, 3, 3, 0, 2, 0, 2, 0, 2, 3, 3, 3,\n",
       "       0, 0, 0, 3, 0, 3, 0, 0, 0, 1, 1, 3, 3, 0, 1, 0, 0, 3, 0, 0, 0, 0, 0,\n",
       "       3, 0, 3, 3, 1, 0, 3, 2, 0, 0, 0, 3, 3, 0, 3, 0, 0, 2, 2, 3, 0, 2, 0,\n",
       "       0, 3, 2, 0, 2, 0, 0, 0, 0, 2, 2, 0, 2, 0, 0, 1, 0, 0, 0, 0, 1, 0, 5,\n",
       "       0, 0, 0, 0, 0, 0, 3, 3, 0, 2, 0, 3, 3, 0, 0, 0, 2, 2, 3, 0, 0, 2, 0,\n",
       "       0, 0, 2, 3, 2, 0, 0, 0, 2, 2, 3, 2, 0, 3, 0, 0, 0, 0, 0, 3, 0, 0, 0,\n",
       "       0, 0, 3, 0, 3, 0, 0, 3, 0, 1, 3, 3, 3, 0, 0, 2, 0, 3, 3, 0, 0, 2, 0,\n",
       "       3, 0, 3, 0, 0, 1, 1, 0, 0, 3, 0, 2, 2, 2, 3, 2, 3, 0, 0, 0, 1, 0, 0,\n",
       "       3, 0, 0, 3, 0, 0, 1, 3, 1, 1, 0, 3, 3, 1, 0, 0, 0, 0, 3, 0, 3, 0, 0,\n",
       "       0, 3, 2, 0, 2, 2, 0, 2, 3, 0, 2, 0, 3, 2, 0, 0, 0, 0, 0, 0, 2, 0, 0,\n",
       "       3, 3, 3, 5, 0, 0, 3, 0, 0, 2, 3, 4, 3, 3, 3, 0, 0, 0, 0, 0, 0, 2, 0,\n",
       "       0, 2, 3, 0, 2, 0, 2, 0, 2, 3, 0, 3, 2, 0, 0, 3, 0, 0, 0, 0, 0, 0, 0,\n",
       "       3, 0, 1, 3, 0, 3, 0, 0, 2, 1, 0, 0, 3, 3, 3, 0, 2, 0, 0, 3, 0, 0, 0,\n",
       "       0, 0, 3, 0, 0, 0, 0, 0, 0, 0, 3, 3, 3, 3, 0, 3, 2, 0, 0, 0, 0, 0, 0,\n",
       "       0, 0, 0, 0, 2, 0, 2, 3, 3, 3, 3, 0, 2, 3, 0, 0, 2, 0, 3, 0, 3, 3, 1,\n",
       "       2, 0, 0], dtype=int32)"
      ]
     },
     "execution_count": 31,
     "metadata": {},
     "output_type": "execute_result"
    }
   ],
   "source": [
    "from sklearn.cluster import KMeans\n",
    "cluster = KMeans(n_clusters=6).fit_predict(cluster_array)\n",
    "cluster"
   ]
  },
  {
   "cell_type": "markdown",
   "metadata": {},
   "source": [
    "元のデータフレームにクラスタリングした番号を付与する"
   ]
  },
  {
   "cell_type": "code",
   "execution_count": 32,
   "metadata": {},
   "outputs": [
    {
     "data": {
      "text/html": [
       "<div>\n",
       "<style>\n",
       "    .dataframe thead tr:only-child th {\n",
       "        text-align: right;\n",
       "    }\n",
       "\n",
       "    .dataframe thead th {\n",
       "        text-align: left;\n",
       "    }\n",
       "\n",
       "    .dataframe tbody tr th {\n",
       "        vertical-align: top;\n",
       "    }\n",
       "</style>\n",
       "<table border=\"1\" class=\"dataframe\">\n",
       "  <thead>\n",
       "    <tr style=\"text-align: right;\">\n",
       "      <th></th>\n",
       "      <th>Channel</th>\n",
       "      <th>Region</th>\n",
       "      <th>Fresh</th>\n",
       "      <th>Grocery</th>\n",
       "      <th>Frozen</th>\n",
       "      <th>Delicassen</th>\n",
       "      <th>Cluster</th>\n",
       "    </tr>\n",
       "  </thead>\n",
       "  <tbody>\n",
       "    <tr>\n",
       "      <th>0</th>\n",
       "      <td>2</td>\n",
       "      <td>3</td>\n",
       "      <td>12669</td>\n",
       "      <td>7561</td>\n",
       "      <td>214</td>\n",
       "      <td>1338</td>\n",
       "      <td>0</td>\n",
       "    </tr>\n",
       "    <tr>\n",
       "      <th>1</th>\n",
       "      <td>2</td>\n",
       "      <td>3</td>\n",
       "      <td>7057</td>\n",
       "      <td>9568</td>\n",
       "      <td>1762</td>\n",
       "      <td>1776</td>\n",
       "      <td>0</td>\n",
       "    </tr>\n",
       "    <tr>\n",
       "      <th>2</th>\n",
       "      <td>2</td>\n",
       "      <td>3</td>\n",
       "      <td>6353</td>\n",
       "      <td>7684</td>\n",
       "      <td>2405</td>\n",
       "      <td>7844</td>\n",
       "      <td>0</td>\n",
       "    </tr>\n",
       "    <tr>\n",
       "      <th>3</th>\n",
       "      <td>1</td>\n",
       "      <td>3</td>\n",
       "      <td>13265</td>\n",
       "      <td>4221</td>\n",
       "      <td>6404</td>\n",
       "      <td>1788</td>\n",
       "      <td>3</td>\n",
       "    </tr>\n",
       "    <tr>\n",
       "      <th>4</th>\n",
       "      <td>2</td>\n",
       "      <td>3</td>\n",
       "      <td>22615</td>\n",
       "      <td>7198</td>\n",
       "      <td>3915</td>\n",
       "      <td>5185</td>\n",
       "      <td>3</td>\n",
       "    </tr>\n",
       "  </tbody>\n",
       "</table>\n",
       "</div>"
      ],
      "text/plain": [
       "   Channel  Region  Fresh  Grocery  Frozen  Delicassen  Cluster\n",
       "0        2       3  12669     7561     214        1338        0\n",
       "1        2       3   7057     9568    1762        1776        0\n",
       "2        2       3   6353     7684    2405        7844        0\n",
       "3        1       3  13265     4221    6404        1788        3\n",
       "4        2       3  22615     7198    3915        5185        3"
      ]
     },
     "execution_count": 32,
     "metadata": {},
     "output_type": "execute_result"
    }
   ],
   "source": [
    "cluster_df['Cluster'] = cluster\n",
    "cluster_df.head()"
   ]
  },
  {
   "cell_type": "markdown",
   "metadata": {},
   "source": [
    "各クラスタに分類されたサンプルの数"
   ]
  },
  {
   "cell_type": "code",
   "execution_count": 33,
   "metadata": {},
   "outputs": [
    {
     "data": {
      "text/html": [
       "<div>\n",
       "<style>\n",
       "    .dataframe thead tr:only-child th {\n",
       "        text-align: right;\n",
       "    }\n",
       "\n",
       "    .dataframe thead th {\n",
       "        text-align: left;\n",
       "    }\n",
       "\n",
       "    .dataframe tbody tr th {\n",
       "        vertical-align: top;\n",
       "    }\n",
       "</style>\n",
       "<table border=\"1\" class=\"dataframe\">\n",
       "  <thead>\n",
       "    <tr style=\"text-align: right;\">\n",
       "      <th></th>\n",
       "      <th>Fresh</th>\n",
       "    </tr>\n",
       "    <tr>\n",
       "      <th>Cluster</th>\n",
       "      <th></th>\n",
       "    </tr>\n",
       "  </thead>\n",
       "  <tbody>\n",
       "    <tr>\n",
       "      <th>0</th>\n",
       "      <td>234</td>\n",
       "    </tr>\n",
       "    <tr>\n",
       "      <th>1</th>\n",
       "      <td>22</td>\n",
       "    </tr>\n",
       "    <tr>\n",
       "      <th>2</th>\n",
       "      <td>66</td>\n",
       "    </tr>\n",
       "    <tr>\n",
       "      <th>3</th>\n",
       "      <td>111</td>\n",
       "    </tr>\n",
       "    <tr>\n",
       "      <th>4</th>\n",
       "      <td>4</td>\n",
       "    </tr>\n",
       "    <tr>\n",
       "      <th>5</th>\n",
       "      <td>3</td>\n",
       "    </tr>\n",
       "  </tbody>\n",
       "</table>\n",
       "</div>"
      ],
      "text/plain": [
       "         Fresh\n",
       "Cluster       \n",
       "0          234\n",
       "1           22\n",
       "2           66\n",
       "3          111\n",
       "4            4\n",
       "5            3"
      ]
     },
     "execution_count": 33,
     "metadata": {},
     "output_type": "execute_result"
    }
   ],
   "source": [
    "cluster_df[['Cluster','Fresh']].groupby(['Cluster']).count()"
   ]
  },
  {
   "cell_type": "markdown",
   "metadata": {},
   "source": [
    "各クラスタの卸売額合計"
   ]
  },
  {
   "cell_type": "code",
   "execution_count": 34,
   "metadata": {},
   "outputs": [
    {
     "data": {
      "text/html": [
       "<div>\n",
       "<style>\n",
       "    .dataframe thead tr:only-child th {\n",
       "        text-align: right;\n",
       "    }\n",
       "\n",
       "    .dataframe thead th {\n",
       "        text-align: left;\n",
       "    }\n",
       "\n",
       "    .dataframe tbody tr th {\n",
       "        vertical-align: top;\n",
       "    }\n",
       "</style>\n",
       "<table border=\"1\" class=\"dataframe\">\n",
       "  <thead>\n",
       "    <tr style=\"text-align: right;\">\n",
       "      <th></th>\n",
       "      <th>Fresh</th>\n",
       "      <th>Grocery</th>\n",
       "      <th>Frozen</th>\n",
       "      <th>Delicassen</th>\n",
       "    </tr>\n",
       "    <tr>\n",
       "      <th>Cluster</th>\n",
       "      <th></th>\n",
       "      <th></th>\n",
       "      <th></th>\n",
       "      <th></th>\n",
       "    </tr>\n",
       "  </thead>\n",
       "  <tbody>\n",
       "    <tr>\n",
       "      <th>0</th>\n",
       "      <td>1322898</td>\n",
       "      <td>1089589</td>\n",
       "      <td>556762</td>\n",
       "      <td>237663</td>\n",
       "    </tr>\n",
       "    <tr>\n",
       "      <th>1</th>\n",
       "      <td>1101093</td>\n",
       "      <td>114951</td>\n",
       "      <td>129704</td>\n",
       "      <td>52896</td>\n",
       "    </tr>\n",
       "    <tr>\n",
       "      <th>2</th>\n",
       "      <td>358326</td>\n",
       "      <td>1411380</td>\n",
       "      <td>113735</td>\n",
       "      <td>128042</td>\n",
       "    </tr>\n",
       "    <tr>\n",
       "      <th>3</th>\n",
       "      <td>2311846</td>\n",
       "      <td>571537</td>\n",
       "      <td>406844</td>\n",
       "      <td>183451</td>\n",
       "    </tr>\n",
       "    <tr>\n",
       "      <th>4</th>\n",
       "      <td>105090</td>\n",
       "      <td>275247</td>\n",
       "      <td>12193</td>\n",
       "      <td>12641</td>\n",
       "    </tr>\n",
       "    <tr>\n",
       "      <th>5</th>\n",
       "      <td>80878</td>\n",
       "      <td>35858</td>\n",
       "      <td>132412</td>\n",
       "      <td>56250</td>\n",
       "    </tr>\n",
       "  </tbody>\n",
       "</table>\n",
       "</div>"
      ],
      "text/plain": [
       "           Fresh  Grocery  Frozen  Delicassen\n",
       "Cluster                                      \n",
       "0        1322898  1089589  556762      237663\n",
       "1        1101093   114951  129704       52896\n",
       "2         358326  1411380  113735      128042\n",
       "3        2311846   571537  406844      183451\n",
       "4         105090   275247   12193       12641\n",
       "5          80878    35858  132412       56250"
      ]
     },
     "execution_count": 34,
     "metadata": {},
     "output_type": "execute_result"
    }
   ],
   "source": [
    "cluster_df.drop(['Region','Channel'],axis=1).groupby('Cluster').sum()"
   ]
  },
  {
   "cell_type": "markdown",
   "metadata": {},
   "source": [
    "各クラスタの取引先あたりの卸売額に卸売額の合計、顧客数を付与"
   ]
  },
  {
   "cell_type": "code",
   "execution_count": 35,
   "metadata": {},
   "outputs": [
    {
     "data": {
      "text/html": [
       "<div>\n",
       "<style>\n",
       "    .dataframe thead tr:only-child th {\n",
       "        text-align: right;\n",
       "    }\n",
       "\n",
       "    .dataframe thead th {\n",
       "        text-align: left;\n",
       "    }\n",
       "\n",
       "    .dataframe tbody tr th {\n",
       "        vertical-align: top;\n",
       "    }\n",
       "</style>\n",
       "<table border=\"1\" class=\"dataframe\">\n",
       "  <thead>\n",
       "    <tr style=\"text-align: right;\">\n",
       "      <th></th>\n",
       "      <th>Fresh</th>\n",
       "      <th>Grocery</th>\n",
       "      <th>Frozen</th>\n",
       "      <th>Delicassen</th>\n",
       "      <th>Count</th>\n",
       "      <th>Fresh_sum</th>\n",
       "      <th>Grocery_sum</th>\n",
       "      <th>Frozen_sum</th>\n",
       "      <th>Delicassen_sum</th>\n",
       "    </tr>\n",
       "    <tr>\n",
       "      <th>Cluster</th>\n",
       "      <th></th>\n",
       "      <th></th>\n",
       "      <th></th>\n",
       "      <th></th>\n",
       "      <th></th>\n",
       "      <th></th>\n",
       "      <th></th>\n",
       "      <th></th>\n",
       "      <th></th>\n",
       "    </tr>\n",
       "  </thead>\n",
       "  <tbody>\n",
       "    <tr>\n",
       "      <th>0</th>\n",
       "      <td>5653.410256</td>\n",
       "      <td>4656.363248</td>\n",
       "      <td>2379.324786</td>\n",
       "      <td>1015.653846</td>\n",
       "      <td>234</td>\n",
       "      <td>1322898</td>\n",
       "      <td>1089589</td>\n",
       "      <td>556762</td>\n",
       "      <td>237663</td>\n",
       "    </tr>\n",
       "    <tr>\n",
       "      <th>1</th>\n",
       "      <td>50049.681818</td>\n",
       "      <td>5225.045455</td>\n",
       "      <td>5895.636364</td>\n",
       "      <td>2404.363636</td>\n",
       "      <td>22</td>\n",
       "      <td>1101093</td>\n",
       "      <td>114951</td>\n",
       "      <td>129704</td>\n",
       "      <td>52896</td>\n",
       "    </tr>\n",
       "    <tr>\n",
       "      <th>2</th>\n",
       "      <td>5429.181818</td>\n",
       "      <td>21384.545455</td>\n",
       "      <td>1723.257576</td>\n",
       "      <td>1940.030303</td>\n",
       "      <td>66</td>\n",
       "      <td>358326</td>\n",
       "      <td>1411380</td>\n",
       "      <td>113735</td>\n",
       "      <td>128042</td>\n",
       "    </tr>\n",
       "    <tr>\n",
       "      <th>3</th>\n",
       "      <td>20827.441441</td>\n",
       "      <td>5148.981982</td>\n",
       "      <td>3665.261261</td>\n",
       "      <td>1652.711712</td>\n",
       "      <td>111</td>\n",
       "      <td>2311846</td>\n",
       "      <td>571537</td>\n",
       "      <td>406844</td>\n",
       "      <td>183451</td>\n",
       "    </tr>\n",
       "    <tr>\n",
       "      <th>4</th>\n",
       "      <td>26272.500000</td>\n",
       "      <td>68811.750000</td>\n",
       "      <td>3048.250000</td>\n",
       "      <td>3160.250000</td>\n",
       "      <td>4</td>\n",
       "      <td>105090</td>\n",
       "      <td>275247</td>\n",
       "      <td>12193</td>\n",
       "      <td>12641</td>\n",
       "    </tr>\n",
       "    <tr>\n",
       "      <th>5</th>\n",
       "      <td>26959.333333</td>\n",
       "      <td>11952.666667</td>\n",
       "      <td>44137.333333</td>\n",
       "      <td>18750.000000</td>\n",
       "      <td>3</td>\n",
       "      <td>80878</td>\n",
       "      <td>35858</td>\n",
       "      <td>132412</td>\n",
       "      <td>56250</td>\n",
       "    </tr>\n",
       "  </tbody>\n",
       "</table>\n",
       "</div>"
      ],
      "text/plain": [
       "                Fresh       Grocery        Frozen    Delicassen  Count  \\\n",
       "Cluster                                                                  \n",
       "0         5653.410256   4656.363248   2379.324786   1015.653846    234   \n",
       "1        50049.681818   5225.045455   5895.636364   2404.363636     22   \n",
       "2         5429.181818  21384.545455   1723.257576   1940.030303     66   \n",
       "3        20827.441441   5148.981982   3665.261261   1652.711712    111   \n",
       "4        26272.500000  68811.750000   3048.250000   3160.250000      4   \n",
       "5        26959.333333  11952.666667  44137.333333  18750.000000      3   \n",
       "\n",
       "         Fresh_sum  Grocery_sum  Frozen_sum  Delicassen_sum  \n",
       "Cluster                                                      \n",
       "0          1322898      1089589      556762          237663  \n",
       "1          1101093       114951      129704           52896  \n",
       "2           358326      1411380      113735          128042  \n",
       "3          2311846       571537      406844          183451  \n",
       "4           105090       275247       12193           12641  \n",
       "5            80878        35858      132412           56250  "
      ]
     },
     "execution_count": 35,
     "metadata": {},
     "output_type": "execute_result"
    }
   ],
   "source": [
    "cluster_df1 = cluster_df.drop(['Channel','Region'],axis=1).groupby('Cluster').mean()\n",
    "count1 = np.array(cluster_df[['Cluster','Fresh']].groupby(['Cluster']).count())\n",
    "Fresh_sum = np.array(cluster_df[['Cluster','Fresh']].groupby('Cluster').sum())\n",
    "Grocery_sum = np.array(cluster_df[['Cluster','Grocery']].groupby('Cluster').sum())\n",
    "Frozen_sum = np.array(cluster_df[['Cluster','Frozen']].groupby('Cluster').sum())\n",
    "Delicassen_sum = np.array(cluster_df[['Cluster','Delicassen']].groupby('Cluster').sum())\n",
    "cluster_df1['Count'] = count1\n",
    "cluster_df1['Fresh_sum'] = Fresh_sum\n",
    "cluster_df1['Grocery_sum'] = Grocery_sum\n",
    "cluster_df1['Frozen_sum'] = Frozen_sum\n",
    "cluster_df1['Delicassen_sum'] = Delicassen_sum\n",
    "cluster_df1"
   ]
  },
  {
   "cell_type": "markdown",
   "metadata": {},
   "source": [
    "- Freshの卸売額が最も多く、Groceryの卸売額が少ない顧客層であるCluster'0'は、新たな生鮮品に反応する可能性が高く、一番の狙い目かもしれない\n",
    "\n",
    "そこで\n",
    "Cluster'0'に絞って、RegionとChannelから販促をかける対象をより絞ってみる"
   ]
  },
  {
   "cell_type": "code",
   "execution_count": 36,
   "metadata": {},
   "outputs": [
    {
     "data": {
      "text/html": [
       "<div>\n",
       "<style>\n",
       "    .dataframe thead tr:only-child th {\n",
       "        text-align: right;\n",
       "    }\n",
       "\n",
       "    .dataframe thead th {\n",
       "        text-align: left;\n",
       "    }\n",
       "\n",
       "    .dataframe tbody tr th {\n",
       "        vertical-align: top;\n",
       "    }\n",
       "</style>\n",
       "<table border=\"1\" class=\"dataframe\">\n",
       "  <thead>\n",
       "    <tr style=\"text-align: right;\">\n",
       "      <th></th>\n",
       "      <th>Channel</th>\n",
       "      <th>Region</th>\n",
       "      <th>Fresh</th>\n",
       "      <th>Grocery</th>\n",
       "      <th>Frozen</th>\n",
       "      <th>Delicassen</th>\n",
       "      <th>Cluster</th>\n",
       "    </tr>\n",
       "  </thead>\n",
       "  <tbody>\n",
       "    <tr>\n",
       "      <th>0</th>\n",
       "      <td>2</td>\n",
       "      <td>3</td>\n",
       "      <td>12669</td>\n",
       "      <td>7561</td>\n",
       "      <td>214</td>\n",
       "      <td>1338</td>\n",
       "      <td>0</td>\n",
       "    </tr>\n",
       "    <tr>\n",
       "      <th>1</th>\n",
       "      <td>2</td>\n",
       "      <td>3</td>\n",
       "      <td>7057</td>\n",
       "      <td>9568</td>\n",
       "      <td>1762</td>\n",
       "      <td>1776</td>\n",
       "      <td>0</td>\n",
       "    </tr>\n",
       "    <tr>\n",
       "      <th>2</th>\n",
       "      <td>2</td>\n",
       "      <td>3</td>\n",
       "      <td>6353</td>\n",
       "      <td>7684</td>\n",
       "      <td>2405</td>\n",
       "      <td>7844</td>\n",
       "      <td>0</td>\n",
       "    </tr>\n",
       "    <tr>\n",
       "      <th>5</th>\n",
       "      <td>2</td>\n",
       "      <td>3</td>\n",
       "      <td>9413</td>\n",
       "      <td>5126</td>\n",
       "      <td>666</td>\n",
       "      <td>1451</td>\n",
       "      <td>0</td>\n",
       "    </tr>\n",
       "    <tr>\n",
       "      <th>6</th>\n",
       "      <td>2</td>\n",
       "      <td>3</td>\n",
       "      <td>12126</td>\n",
       "      <td>6975</td>\n",
       "      <td>480</td>\n",
       "      <td>545</td>\n",
       "      <td>0</td>\n",
       "    </tr>\n",
       "  </tbody>\n",
       "</table>\n",
       "</div>"
      ],
      "text/plain": [
       "   Channel  Region  Fresh  Grocery  Frozen  Delicassen  Cluster\n",
       "0        2       3  12669     7561     214        1338        0\n",
       "1        2       3   7057     9568    1762        1776        0\n",
       "2        2       3   6353     7684    2405        7844        0\n",
       "5        2       3   9413     5126     666        1451        0\n",
       "6        2       3  12126     6975     480         545        0"
      ]
     },
     "execution_count": 36,
     "metadata": {},
     "output_type": "execute_result"
    }
   ],
   "source": [
    "cluster_df2 = cluster_df[cluster_df['Cluster']==0]\n",
    "cluster_df2.head()"
   ]
  },
  {
   "cell_type": "code",
   "execution_count": 37,
   "metadata": {},
   "outputs": [
    {
     "data": {
      "text/html": [
       "<div>\n",
       "<style>\n",
       "    .dataframe thead tr:only-child th {\n",
       "        text-align: right;\n",
       "    }\n",
       "\n",
       "    .dataframe thead th {\n",
       "        text-align: left;\n",
       "    }\n",
       "\n",
       "    .dataframe tbody tr th {\n",
       "        vertical-align: top;\n",
       "    }\n",
       "</style>\n",
       "<table border=\"1\" class=\"dataframe\">\n",
       "  <thead>\n",
       "    <tr style=\"text-align: right;\">\n",
       "      <th></th>\n",
       "      <th></th>\n",
       "      <th>Fresh</th>\n",
       "    </tr>\n",
       "    <tr>\n",
       "      <th>Region</th>\n",
       "      <th>Channel</th>\n",
       "      <th></th>\n",
       "    </tr>\n",
       "  </thead>\n",
       "  <tbody>\n",
       "    <tr>\n",
       "      <th rowspan=\"2\" valign=\"top\">1</th>\n",
       "      <th>1</th>\n",
       "      <td>36</td>\n",
       "    </tr>\n",
       "    <tr>\n",
       "      <th>2</th>\n",
       "      <td>5</td>\n",
       "    </tr>\n",
       "    <tr>\n",
       "      <th rowspan=\"2\" valign=\"top\">2</th>\n",
       "      <th>1</th>\n",
       "      <td>17</td>\n",
       "    </tr>\n",
       "    <tr>\n",
       "      <th>2</th>\n",
       "      <td>7</td>\n",
       "    </tr>\n",
       "    <tr>\n",
       "      <th rowspan=\"2\" valign=\"top\">3</th>\n",
       "      <th>1</th>\n",
       "      <td>127</td>\n",
       "    </tr>\n",
       "    <tr>\n",
       "      <th>2</th>\n",
       "      <td>42</td>\n",
       "    </tr>\n",
       "  </tbody>\n",
       "</table>\n",
       "</div>"
      ],
      "text/plain": [
       "                Fresh\n",
       "Region Channel       \n",
       "1      1           36\n",
       "       2            5\n",
       "2      1           17\n",
       "       2            7\n",
       "3      1          127\n",
       "       2           42"
      ]
     },
     "execution_count": 37,
     "metadata": {},
     "output_type": "execute_result"
    }
   ],
   "source": [
    "cluster_df2[['Region','Channel','Fresh']].groupby(['Region','Channel']).count()"
   ]
  },
  {
   "cell_type": "code",
   "execution_count": 38,
   "metadata": {},
   "outputs": [
    {
     "data": {
      "text/html": [
       "<div>\n",
       "<style>\n",
       "    .dataframe thead tr:only-child th {\n",
       "        text-align: right;\n",
       "    }\n",
       "\n",
       "    .dataframe thead th {\n",
       "        text-align: left;\n",
       "    }\n",
       "\n",
       "    .dataframe tbody tr th {\n",
       "        vertical-align: top;\n",
       "    }\n",
       "</style>\n",
       "<table border=\"1\" class=\"dataframe\">\n",
       "  <thead>\n",
       "    <tr style=\"text-align: right;\">\n",
       "      <th></th>\n",
       "      <th></th>\n",
       "      <th>Fresh</th>\n",
       "      <th>Grocery</th>\n",
       "      <th>Frozen</th>\n",
       "      <th>Delicassen</th>\n",
       "      <th>Count</th>\n",
       "      <th>Fresh_sum</th>\n",
       "      <th>Grocery_sum</th>\n",
       "      <th>Frozen_sum</th>\n",
       "      <th>Delicassen_sum</th>\n",
       "    </tr>\n",
       "    <tr>\n",
       "      <th>Region</th>\n",
       "      <th>Channel</th>\n",
       "      <th></th>\n",
       "      <th></th>\n",
       "      <th></th>\n",
       "      <th></th>\n",
       "      <th></th>\n",
       "      <th></th>\n",
       "      <th></th>\n",
       "      <th></th>\n",
       "      <th></th>\n",
       "    </tr>\n",
       "  </thead>\n",
       "  <tbody>\n",
       "    <tr>\n",
       "      <th rowspan=\"2\" valign=\"top\">1</th>\n",
       "      <th>1</th>\n",
       "      <td>5924.666667</td>\n",
       "      <td>3567.138889</td>\n",
       "      <td>2436.861111</td>\n",
       "      <td>776.500000</td>\n",
       "      <td>36</td>\n",
       "      <td>213288</td>\n",
       "      <td>128417</td>\n",
       "      <td>87727</td>\n",
       "      <td>27954</td>\n",
       "    </tr>\n",
       "    <tr>\n",
       "      <th>2</th>\n",
       "      <td>4238.400000</td>\n",
       "      <td>7744.800000</td>\n",
       "      <td>3783.800000</td>\n",
       "      <td>1175.200000</td>\n",
       "      <td>5</td>\n",
       "      <td>21192</td>\n",
       "      <td>38724</td>\n",
       "      <td>18919</td>\n",
       "      <td>5876</td>\n",
       "    </tr>\n",
       "    <tr>\n",
       "      <th rowspan=\"2\" valign=\"top\">2</th>\n",
       "      <th>1</th>\n",
       "      <td>5749.058824</td>\n",
       "      <td>3799.705882</td>\n",
       "      <td>4361.705882</td>\n",
       "      <td>867.882353</td>\n",
       "      <td>17</td>\n",
       "      <td>97734</td>\n",
       "      <td>64595</td>\n",
       "      <td>74149</td>\n",
       "      <td>14754</td>\n",
       "    </tr>\n",
       "    <tr>\n",
       "      <th>2</th>\n",
       "      <td>4434.285714</td>\n",
       "      <td>9316.428571</td>\n",
       "      <td>790.428571</td>\n",
       "      <td>976.714286</td>\n",
       "      <td>7</td>\n",
       "      <td>31040</td>\n",
       "      <td>65215</td>\n",
       "      <td>5533</td>\n",
       "      <td>6837</td>\n",
       "    </tr>\n",
       "    <tr>\n",
       "      <th rowspan=\"2\" valign=\"top\">3</th>\n",
       "      <th>1</th>\n",
       "      <td>5538.874016</td>\n",
       "      <td>3152.811024</td>\n",
       "      <td>2513.055118</td>\n",
       "      <td>948.141732</td>\n",
       "      <td>127</td>\n",
       "      <td>703437</td>\n",
       "      <td>400407</td>\n",
       "      <td>319158</td>\n",
       "      <td>120414</td>\n",
       "    </tr>\n",
       "    <tr>\n",
       "      <th>2</th>\n",
       "      <td>6100.166667</td>\n",
       "      <td>9338.833333</td>\n",
       "      <td>1220.857143</td>\n",
       "      <td>1472.095238</td>\n",
       "      <td>42</td>\n",
       "      <td>256207</td>\n",
       "      <td>392231</td>\n",
       "      <td>51276</td>\n",
       "      <td>61828</td>\n",
       "    </tr>\n",
       "  </tbody>\n",
       "</table>\n",
       "</div>"
      ],
      "text/plain": [
       "                      Fresh      Grocery       Frozen   Delicassen  Count  \\\n",
       "Region Channel                                                              \n",
       "1      1        5924.666667  3567.138889  2436.861111   776.500000     36   \n",
       "       2        4238.400000  7744.800000  3783.800000  1175.200000      5   \n",
       "2      1        5749.058824  3799.705882  4361.705882   867.882353     17   \n",
       "       2        4434.285714  9316.428571   790.428571   976.714286      7   \n",
       "3      1        5538.874016  3152.811024  2513.055118   948.141732    127   \n",
       "       2        6100.166667  9338.833333  1220.857143  1472.095238     42   \n",
       "\n",
       "                Fresh_sum  Grocery_sum  Frozen_sum  Delicassen_sum  \n",
       "Region Channel                                                      \n",
       "1      1           213288       128417       87727           27954  \n",
       "       2            21192        38724       18919            5876  \n",
       "2      1            97734        64595       74149           14754  \n",
       "       2            31040        65215        5533            6837  \n",
       "3      1           703437       400407      319158          120414  \n",
       "       2           256207       392231       51276           61828  "
      ]
     },
     "execution_count": 38,
     "metadata": {},
     "output_type": "execute_result"
    }
   ],
   "source": [
    "cluster_df3 = cluster_df2.drop('Cluster',axis=1).groupby(['Region','Channel']).mean()\n",
    "cluster_df3\n",
    "count2 = np.array(cluster_df2[['Region','Channel','Fresh']].groupby(['Region','Channel']).count())\n",
    "Fresh_sum2 = np.array(cluster_df2[['Region','Channel','Fresh']].groupby(['Region','Channel']).sum())\n",
    "Grocery_sum2 = np.array(cluster_df2[['Region','Channel','Grocery']].groupby(['Region','Channel']).sum())\n",
    "Frozen_sum2 = np.array(cluster_df2[['Region','Channel','Frozen']].groupby(['Region','Channel']).sum())\n",
    "Delicassen_sum2 = np.array(cluster_df2[['Region','Channel','Delicassen']].groupby(['Region','Channel']).sum())\n",
    "cluster_df3['Count'] = count2\n",
    "cluster_df3['Fresh_sum'] = Fresh_sum2\n",
    "cluster_df3['Grocery_sum'] = Grocery_sum2\n",
    "cluster_df3['Frozen_sum'] = Frozen_sum2\n",
    "cluster_df3['Delicassen_sum'] = Delicassen_sum2\n",
    "cluster_df3"
   ]
  },
  {
   "cell_type": "markdown",
   "metadata": {},
   "source": [
    "- 取引先の数が多い順に販促をかけるとすると下記をターゲットにするのが良いかもしれない\n",
    "    1. Other Region,Horeca\n",
    "    2. Other Region,Retail\n",
    "    3. Lisbon,Horeca"
   ]
  },
  {
   "cell_type": "markdown",
   "metadata": {},
   "source": [
    "## 感想\n",
    "- 分布を確認はして見たものの、特徴を掴むのにあまり有効な気がしなかった。やり方が悪い気がする\n",
    "- グループ化は、RegionとChannelを組み合わせたものだけでよかったかも\n",
    "- このぐらいのデータ量なら、クロス集計で一生懸命紐解いていったほうがわかりやすく有益な情報が得られそうな気がした\n",
    "- クラスタリング後の考察が甘いが、事業を深く知る手立てがあれば、いろんな切り口で分析するアイデアが湧いてきそうで楽しいなと思えた！"
   ]
  }
 ],
 "metadata": {
  "kernelspec": {
   "display_name": "Python 3",
   "language": "python",
   "name": "python3"
  },
  "language_info": {
   "codemirror_mode": {
    "name": "ipython",
    "version": 3
   },
   "file_extension": ".py",
   "mimetype": "text/x-python",
   "name": "python",
   "nbconvert_exporter": "python",
   "pygments_lexer": "ipython3",
   "version": "3.6.1"
  }
 },
 "nbformat": 4,
 "nbformat_minor": 2
}
